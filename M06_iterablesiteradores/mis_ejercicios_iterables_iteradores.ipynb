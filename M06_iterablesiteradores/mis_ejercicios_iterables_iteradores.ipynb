{
 "cells": [
  {
   "attachments": {},
   "cell_type": "markdown",
   "metadata": {},
   "source": [
    "## Iteradores e iterables"
   ]
  },
  {
   "attachments": {},
   "cell_type": "markdown",
   "metadata": {},
   "source": [
    "1) A partir de una lista vacía, utilizar un ciclo while para cargar allí números negativos del -15 al -1"
   ]
  },
  {
   "cell_type": "code",
   "execution_count": 4,
   "metadata": {},
   "outputs": [
    {
     "name": "stdout",
     "output_type": "stream",
     "text": [
      "[-15, -14, -13, -12, -11, -10, -9, -8, -7, -6, -5, -4, -3, -2, -1]\n"
     ]
    }
   ],
   "source": [
    "mi_lista=[]\n",
    "numero= -15\n",
    "hasta= -1\n",
    "while numero <= hasta: #Mientras numero sea menor o igual a -1\n",
    "    mi_lista.append(numero) #Mi lista tendrá todos los numeros.\n",
    "    numero += 1\n",
    "print(mi_lista)"
   ]
  },
  {
   "attachments": {},
   "cell_type": "markdown",
   "metadata": {},
   "source": [
    "2) ¿Con un ciclo while sería posible recorrer la lista para imprimir sólo los números pares?"
   ]
  },
  {
   "cell_type": "code",
   "execution_count": 5,
   "metadata": {},
   "outputs": [
    {
     "name": "stdout",
     "output_type": "stream",
     "text": [
      "-14\n",
      "-12\n",
      "-10\n",
      "-8\n",
      "-6\n",
      "-4\n",
      "-2\n"
     ]
    }
   ],
   "source": [
    "indice_lista= 0\n",
    "\n",
    "while indice_lista < len(mi_lista):\n",
    "    if mi_lista[indice_lista] % 2 == 0:\n",
    "        print(mi_lista[indice_lista])\n",
    "    indice_lista += 1\n"
   ]
  },
  {
   "cell_type": "code",
   "execution_count": 6,
   "metadata": {},
   "outputs": [
    {
     "name": "stdout",
     "output_type": "stream",
     "text": [
      "-14\n",
      "-12\n",
      "-10\n",
      "-8\n",
      "-6\n",
      "-4\n",
      "-2\n"
     ]
    }
   ],
   "source": [
    "#Punto 3\n",
    "for elemento in mi_lista:\n",
    "    if elemento % 2 == 0:\n",
    "        print(elemento)"
   ]
  },
  {
   "cell_type": "code",
   "execution_count": 3,
   "metadata": {},
   "outputs": [
    {
     "name": "stdout",
     "output_type": "stream",
     "text": [
      "-16 es numero par\n",
      "-14 es numero par\n",
      "-12 es numero par\n",
      "-10 es numero par\n",
      "-8 es numero par\n",
      "-6 es numero par\n",
      "-4 es numero par\n",
      "-2 es numero par\n"
     ]
    }
   ],
   "source": [
    "i=-16\n",
    "while i<-1:\n",
    "    if i % 2 == 0:\n",
    "        print(i, \"es numero par\")\n",
    "    i+=1"
   ]
  },
  {
   "attachments": {},
   "cell_type": "markdown",
   "metadata": {},
   "source": [
    "3) Resolver el punto anterior sin utilizar un ciclo while"
   ]
  },
  {
   "cell_type": "code",
   "execution_count": 5,
   "metadata": {},
   "outputs": [
    {
     "name": "stdout",
     "output_type": "stream",
     "text": [
      "-14 es numero par\n",
      "-12 es numero par\n",
      "-10 es numero par\n",
      "-8 es numero par\n",
      "-6 es numero par\n",
      "-4 es numero par\n",
      "-2 es numero par\n"
     ]
    }
   ],
   "source": [
    "for i in range(-15,-1):\n",
    "    if i % 2 == 0:  \n",
    "        print(i, \"es numero par\")\n",
    "    i+=1"
   ]
  },
  {
   "attachments": {},
   "cell_type": "markdown",
   "metadata": {},
   "source": [
    "4) Utilizar el iterable para recorrer sólo los primeros 3 elementos"
   ]
  },
  {
   "cell_type": "code",
   "execution_count": 7,
   "metadata": {},
   "outputs": [],
   "source": [
    "mi_lista=[-14,-12,-10,-8,-6,-4,-2]"
   ]
  },
  {
   "cell_type": "code",
   "execution_count": 8,
   "metadata": {},
   "outputs": [
    {
     "name": "stdout",
     "output_type": "stream",
     "text": [
      "-14\n",
      "-12\n",
      "-10\n"
     ]
    }
   ],
   "source": [
    "for elemento in mi_lista[:3]:\n",
    "    print(elemento)"
   ]
  },
  {
   "cell_type": "code",
   "execution_count": 7,
   "metadata": {},
   "outputs": [
    {
     "name": "stdout",
     "output_type": "stream",
     "text": [
      "[-14, -12, -10]\n"
     ]
    }
   ],
   "source": [
    "print(mi_lista[0:3])"
   ]
  },
  {
   "attachments": {},
   "cell_type": "markdown",
   "metadata": {},
   "source": [
    "5) Utilizar la función **enumerate** para obtener dentro del iterable, tambien el índice al que corresponde el elemento"
   ]
  },
  {
   "cell_type": "code",
   "execution_count": 8,
   "metadata": {},
   "outputs": [
    {
     "name": "stdout",
     "output_type": "stream",
     "text": [
      "(0, -14)\n",
      "(1, -12)\n",
      "(2, -10)\n",
      "(3, -8)\n",
      "(4, -6)\n",
      "(5, -4)\n",
      "(6, -2)\n"
     ]
    }
   ],
   "source": [
    "for a in enumerate(mi_lista):\n",
    "    print(a)"
   ]
  },
  {
   "cell_type": "code",
   "execution_count": 9,
   "metadata": {},
   "outputs": [
    {
     "name": "stdout",
     "output_type": "stream",
     "text": [
      "0 -14\n",
      "1 -12\n",
      "2 -10\n",
      "3 -8\n",
      "4 -6\n",
      "5 -4\n",
      "6 -2\n"
     ]
    }
   ],
   "source": [
    "for indice, valor in enumerate(mi_lista):\n",
    "    print(indice, valor)"
   ]
  },
  {
   "attachments": {},
   "cell_type": "markdown",
   "metadata": {},
   "source": [
    "6) Dada la siguiente lista de números enteros entre 1 y 20, crear un ciclo donde se completen los valores faltantes: lista = [1,2,5,7,8,10,13,14,15,17,20]"
   ]
  },
  {
   "cell_type": "code",
   "execution_count": 13,
   "metadata": {},
   "outputs": [
    {
     "name": "stdout",
     "output_type": "stream",
     "text": [
      "[1, 2, 3, 4, 5, 6, 7, 8, 9, 10, 11, 12, 13, 14, 15, 16, 17, 18, 19, 20]\n"
     ]
    }
   ],
   "source": [
    "mi_lista=[1,2,5,7,8,10,13,14,15,17,20]\n",
    "\n",
    "numero_de_lista= 1\n",
    "numero_final= 20\n",
    "\n",
    "while numero_de_lista <= numero_final:\n",
    "    if not (numero_de_lista in mi_lista): #Lo que hace not es invertir lo que esté en mi lista, de decir, rellene con el numero que no esta y que lo imprima.\n",
    "        mi_lista.insert(numero_de_lista-1, numero_de_lista)\n",
    "    numero_de_lista += 1\n",
    "print(mi_lista)"
   ]
  },
  {
   "attachments": {},
   "cell_type": "markdown",
   "metadata": {},
   "source": [
    "7) La sucesión de Fibonacci es un listado de números que sigue la fórmula: <br>\n",
    "n<sub>0</sub> = 0<br>\n",
    "n<sub>1</sub> = 1<br>\n",
    "n<sub>i</sub> = n<sub>i-1</sub> + n<sub>i-2</sub><br>\n",
    "Crear una lista con los primeros treinta números de la sucesión.<br>"
   ]
  },
  {
   "cell_type": "code",
   "execution_count": 15,
   "metadata": {},
   "outputs": [
    {
     "name": "stdout",
     "output_type": "stream",
     "text": [
      "[0, 1, 1, 2, 3, 5, 8, 13, 21, 34, 55, 89, 144, 233, 377, 610, 987, 1597, 2584, 4181, 6765, 10946, 17711, 28657, 46368, 75025, 121393, 196418, 317811, 514229]\n"
     ]
    }
   ],
   "source": [
    "#fibo = 0, 1, 1, 2, 3, 5, 8, 13...\n",
    "\n",
    "fibo_list=[0, 1]\n",
    "numero = 2\n",
    "while numero < 30:\n",
    "    numero_anterior_1= fibo_list[numero-1]\n",
    "    numero_anterior_2= fibo_list[numero-2]\n",
    "    numero_para_agregar= numero_anterior_1 + numero_anterior_2\n",
    "    fibo_list.append(numero_para_agregar)\n",
    "    numero += 1\n",
    "print(fibo_list)"
   ]
  },
  {
   "attachments": {},
   "cell_type": "markdown",
   "metadata": {},
   "source": [
    "8) Realizar la suma de todos elementos de la lista del punto anterior"
   ]
  },
  {
   "cell_type": "code",
   "execution_count": 16,
   "metadata": {},
   "outputs": [
    {
     "data": {
      "text/plain": [
       "1346268"
      ]
     },
     "execution_count": 16,
     "metadata": {},
     "output_type": "execute_result"
    }
   ],
   "source": [
    "sum(fibo_list)"
   ]
  },
  {
   "cell_type": "code",
   "execution_count": 17,
   "metadata": {},
   "outputs": [
    {
     "name": "stdout",
     "output_type": "stream",
     "text": [
      "1346268\n"
     ]
    }
   ],
   "source": [
    "print(sum(fibo_list))"
   ]
  },
  {
   "attachments": {},
   "cell_type": "markdown",
   "metadata": {},
   "source": [
    "9) La proporción aurea se expresa con una proporción matemática que nace el número irracional Phi= 1,618… que los griegos llamaron número áureo. El cuál se puede aproximar con la sucesión de Fibonacci. Con la lista del ejercicio anterior, imprimir el cociente de los últimos 5 pares de dos números contiguos:<br>\n",
    "Donde i es la cantidad total de elementos<br>\n",
    "n<sub>i-1</sub> / n<sub>i</sub><br>\n",
    "n<sub>i-2</sub> / n<sub>i-1</sub><br>\n",
    "n<sub>i-3</sub> / n<sub>i-2</sub><br>\n",
    "n<sub>i-4</sub> / n<sub>i-3</sub><br>\n",
    "n<sub>i-5</sub> / n<sub>i-4</sub><br>\n",
    " "
   ]
  },
  {
   "cell_type": "code",
   "execution_count": 18,
   "metadata": {},
   "outputs": [
    {
     "name": "stdout",
     "output_type": "stream",
     "text": [
      "1.6176470588235294\n",
      "1.6181818181818182\n",
      "1.6179775280898876\n",
      "1.6180555555555556\n",
      "1.6180257510729614\n"
     ]
    }
   ],
   "source": [
    "primeros= 15\n",
    "numero= primeros -5\n",
    "\n",
    "while numero < primeros:\n",
    "    numero_anterior_1= fibo_list[numero]\n",
    "    numero_anterior_2= fibo_list[numero-1]\n",
    "    cociente= numero_anterior_1/numero_anterior_2\n",
    "    print(cociente)\n",
    "    numero += 1"
   ]
  },
  {
   "attachments": {},
   "cell_type": "markdown",
   "metadata": {},
   "source": [
    "10) A partir de la variable cadena ya dada, mostrar en qué posiciones aparece la letra \"n\"<br>\n",
    "cadena = 'Hola Mundo. Esto es una practica del lenguaje de programación Python'"
   ]
  },
  {
   "cell_type": "code",
   "execution_count": 20,
   "metadata": {},
   "outputs": [
    {
     "name": "stdout",
     "output_type": "stream",
     "text": [
      "la letra n se encuentra en: 7\n",
      "la letra n se encuentra en: 21\n",
      "la letra n se encuentra en: 39\n",
      "la letra n se encuentra en: 60\n",
      "la letra n se encuentra en: 67\n"
     ]
    }
   ],
   "source": [
    "cadena='Hola Mundo. Esto es una practica del lenguaje de programación Python'\n",
    "for indice, valor in enumerate(cadena):\n",
    "    if valor == 'n':\n",
    "        print(\"la letra n se encuentra en:\", indice)"
   ]
  },
  {
   "attachments": {},
   "cell_type": "markdown",
   "metadata": {},
   "source": [
    "11) Crear un diccionario e imprimir sus claves utilizando un iterador"
   ]
  },
  {
   "cell_type": "code",
   "execution_count": 24,
   "metadata": {},
   "outputs": [
    {
     "name": "stdout",
     "output_type": "stream",
     "text": [
      "Ciudad\n",
      "País\n",
      "Continente\n"
     ]
    }
   ],
   "source": [
    "mi_lista_ciudades= [\"Buenos Aires\", \"Caracas\", \"Bogotá\"]\n",
    "mi_lista_paises= [\"Argentina\", \"Venezuela\", \"Colombia\"]\n",
    "mi_lista_continentes= [\"América\", \"América\", \"América\"]\n",
    "\n",
    "clave_1= \"Ciudad\"\n",
    "clave_2= \"País\"\n",
    "clave_3= \"Continente\"\n",
    "\n",
    "mi_dict= {clave_1: mi_lista_ciudades, \n",
    "          clave_2: mi_lista_paises,\n",
    "          clave_3: mi_lista_continentes}\n",
    "\n",
    "for clave in mi_dict:\n",
    "    print(clave)\n"
   ]
  },
  {
   "attachments": {},
   "cell_type": "markdown",
   "metadata": {},
   "source": [
    "12) Convertir en una lista la variable \"cadena\" del punto 10 y luego recorrerla con un iterador "
   ]
  },
  {
   "cell_type": "code",
   "execution_count": 26,
   "metadata": {},
   "outputs": [
    {
     "name": "stdout",
     "output_type": "stream",
     "text": [
      "Hola Mundo. Esto es una practica del lenguaje de programación Python\n",
      "<class 'str'>\n"
     ]
    }
   ],
   "source": [
    "print(cadena)\n",
    "print(type(cadena))"
   ]
  },
  {
   "cell_type": "code",
   "execution_count": 28,
   "metadata": {},
   "outputs": [
    {
     "name": "stdout",
     "output_type": "stream",
     "text": [
      "<class 'list'>\n",
      "['H', 'o', 'l', 'a', ' ', 'M', 'u', 'n', 'd', 'o', '.', ' ', 'E', 's', 't', 'o', ' ', 'e', 's', ' ', 'u', 'n', 'a', ' ', 'p', 'r', 'a', 'c', 't', 'i', 'c', 'a', ' ', 'd', 'e', 'l', ' ', 'l', 'e', 'n', 'g', 'u', 'a', 'j', 'e', ' ', 'd', 'e', ' ', 'p', 'r', 'o', 'g', 'r', 'a', 'm', 'a', 'c', 'i', 'ó', 'n', ' ', 'P', 'y', 't', 'h', 'o', 'n']\n"
     ]
    }
   ],
   "source": [
    "cadena= list(cadena)\n",
    "print(type(cadena))\n",
    "print(cadena)"
   ]
  },
  {
   "cell_type": "code",
   "execution_count": 29,
   "metadata": {},
   "outputs": [
    {
     "name": "stdout",
     "output_type": "stream",
     "text": [
      "H\n",
      "o\n",
      "l\n",
      "a\n",
      " \n",
      "M\n",
      "u\n",
      "n\n",
      "d\n",
      "o\n",
      ".\n",
      " \n",
      "E\n",
      "s\n",
      "t\n",
      "o\n",
      " \n",
      "e\n",
      "s\n",
      " \n",
      "u\n",
      "n\n",
      "a\n",
      " \n",
      "p\n",
      "r\n",
      "a\n",
      "c\n",
      "t\n",
      "i\n",
      "c\n",
      "a\n",
      " \n",
      "d\n",
      "e\n",
      "l\n",
      " \n",
      "l\n",
      "e\n",
      "n\n",
      "g\n",
      "u\n",
      "a\n",
      "j\n",
      "e\n",
      " \n",
      "d\n",
      "e\n",
      " \n",
      "p\n",
      "r\n",
      "o\n",
      "g\n",
      "r\n",
      "a\n",
      "m\n",
      "a\n",
      "c\n",
      "i\n",
      "ó\n",
      "n\n",
      " \n",
      "P\n",
      "y\n",
      "t\n",
      "h\n",
      "o\n",
      "n\n"
     ]
    }
   ],
   "source": [
    "mi_iterador= iter(cadena)\n",
    "longitud= len(cadena)\n",
    "\n",
    "for indice in range(0, longitud):\n",
    "    print(next(mi_iterador))"
   ]
  },
  {
   "attachments": {},
   "cell_type": "markdown",
   "metadata": {},
   "source": [
    "13) Crear dos listas y unirlas en una tupla utilizando la función zip"
   ]
  },
  {
   "cell_type": "code",
   "execution_count": 24,
   "metadata": {},
   "outputs": [],
   "source": [
    "lista1=[1,2,3,4]\n",
    "lista2=[5,6,7,8]"
   ]
  },
  {
   "cell_type": "code",
   "execution_count": 25,
   "metadata": {},
   "outputs": [],
   "source": [
    "nueva_lista_combinada=zip(lista1, lista2)"
   ]
  },
  {
   "cell_type": "code",
   "execution_count": 30,
   "metadata": {},
   "outputs": [
    {
     "name": "stdout",
     "output_type": "stream",
     "text": [
      "<zip object at 0x000001F2C4EE3900>\n",
      "[(1, 5), (2, 6), (3, 7), (4, 8)]\n",
      "<class 'zip'>\n"
     ]
    }
   ],
   "source": [
    "print(nueva_lista_combinada) #Arroja un monton de numeros porque los datos estan comprimidos.\n",
    "print(list(nueva_lista_combinada)) #Entonces le digo que me imprima los datos de la lista, porque yo se que es una lista.\n",
    "print(type(nueva_lista_combinada)) #Y por ultimo, que imprima el tipo de dato de la lista fusionada."
   ]
  },
  {
   "attachments": {},
   "cell_type": "markdown",
   "metadata": {},
   "source": [
    "14) A partir de la siguiente lista de números, crear una nueva sólo si el número es divisible por 7<br>\n",
    "lis = [18,21,29,32,35,42,56,60,63,71,84,90,91,100]"
   ]
  },
  {
   "cell_type": "code",
   "execution_count": 31,
   "metadata": {},
   "outputs": [
    {
     "name": "stdout",
     "output_type": "stream",
     "text": [
      "Los numeros divisibles por 7: [21, 35, 42, 56, 63, 84, 91]\n",
      "[18, 21, 29, 32, 35, 42, 56, 60, 63, 71, 84, 90, 91, 100]\n"
     ]
    }
   ],
   "source": [
    "lista= [18,21,29,32,35,42,56,60,63,71,84,90,91,100] #aplicando condicionales a iterables. NO SIEMPRE ES UTIL ESTA FORMA DE RESOLVER.\n",
    "divisibles_por_7=[x for x in lista if x%7==0]\n",
    "print(\"Los numeros divisibles por 7:\", divisibles_por_7)\n",
    "print(lista)"
   ]
  },
  {
   "cell_type": "code",
   "execution_count": 53,
   "metadata": {},
   "outputs": [
    {
     "name": "stdout",
     "output_type": "stream",
     "text": [
      "[18, 21, 29, 32, 35, 42, 56, 60, 63, 71, 84, 90, 91, 100]\n",
      "Los numeros divisibles por 7: [21, 35, 42, 56, 63, 84, 91]\n"
     ]
    }
   ],
   "source": [
    "mi_lista= [18,21,29,32,35,42,56,60,63,71,84,90,91,100]\n",
    "mi_lista_m7= []\n",
    "for numero in mi_lista:\n",
    "    if numero % 7 == 0:\n",
    "        mi_lista_m7.append(numero)\n",
    "\n",
    "print(mi_lista)\n",
    "print(\"Los numeros divisibles por 7:\", mi_lista_m7)"
   ]
  },
  {
   "attachments": {},
   "cell_type": "markdown",
   "metadata": {},
   "source": [
    "15) A partir de la lista de a continuación, contar la cantidad total de elementos que contiene, teniendo en cuenta que un elemento de la lista podría ser otra lista:<br>\n",
    "lis = [[1,2,3,4],'rojo','verde',[True,False,False],['uno','dos','tres']]"
   ]
  },
  {
   "cell_type": "code",
   "execution_count": 33,
   "metadata": {},
   "outputs": [],
   "source": [
    "mi_lista= [[1,2,3,4],'rojo','verde',[True,False,False],['uno','dos','tres']]"
   ]
  },
  {
   "cell_type": "code",
   "execution_count": 34,
   "metadata": {},
   "outputs": [
    {
     "data": {
      "text/plain": [
       "list"
      ]
     },
     "execution_count": 34,
     "metadata": {},
     "output_type": "execute_result"
    }
   ],
   "source": [
    "type(mi_lista)"
   ]
  },
  {
   "cell_type": "code",
   "execution_count": 35,
   "metadata": {},
   "outputs": [
    {
     "name": "stdout",
     "output_type": "stream",
     "text": [
      "cantidad de elementos: 5\n"
     ]
    }
   ],
   "source": [
    "cantidad_elementos= 0\n",
    "\n",
    "for elemento in mi_lista:\n",
    "    if type(elemento) == mi_lista:\n",
    "        cantidad_elementos += len(elementos) #Si el elemento es una lista, pongala en la variable 'cantidad de elementos'\n",
    "    else:\n",
    "        cantidad_elementos += 1 #Si no es un elemento, sume 1 para que continue con el siguiente elemento de la lista.\n",
    "\n",
    "print(\"cantidad de elementos:\", cantidad_elementos)"
   ]
  },
  {
   "attachments": {},
   "cell_type": "markdown",
   "metadata": {},
   "source": [
    "16) Tomar la lista del punto anterior y convertir cada elemento en una lista si no lo es"
   ]
  },
  {
   "cell_type": "code",
   "execution_count": 46,
   "metadata": {},
   "outputs": [],
   "source": [
    "mi_lista= [[1,2,3,4],'rojo','verde',[True,False,False],['uno','dos','tres']]"
   ]
  },
  {
   "cell_type": "code",
   "execution_count": 52,
   "metadata": {},
   "outputs": [
    {
     "name": "stdout",
     "output_type": "stream",
     "text": [
      "[[[1, 2, 3, 4]], ['rojo'], ['verde'], [[True, False, False]], [['uno', 'dos', 'tres']]]\n"
     ]
    }
   ],
   "source": [
    "for indice, valor in enumerate(mi_lista):\n",
    "    if type(elemento) == list:\n",
    "        mi_lista[indice] = valor #[indice] significa: en esa posicion. Si el valor de ese lemento es una lista, dejelo igual, sin modificar.\n",
    "    else:\n",
    "        mi_lista[indice] = list(valor) #Si no es una lista, trasforma ese valor a lista\n",
    "print(mi_lista)"
   ]
  }
 ],
 "metadata": {
  "interpreter": {
   "hash": "c85384e4cb51c8b72350f3a8712cc8351fdc3955e32a27f9b60c6242ab125f01"
  },
  "kernelspec": {
   "display_name": "Python 3 (ipykernel)",
   "language": "python",
   "name": "python3"
  },
  "language_info": {
   "codemirror_mode": {
    "name": "ipython",
    "version": 3
   },
   "file_extension": ".py",
   "mimetype": "text/x-python",
   "name": "python",
   "nbconvert_exporter": "python",
   "pygments_lexer": "ipython3",
   "version": "3.11.9"
  }
 },
 "nbformat": 4,
 "nbformat_minor": 4
}
