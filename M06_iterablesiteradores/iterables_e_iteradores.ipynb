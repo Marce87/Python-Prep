{
 "cells": [
  {
   "cell_type": "code",
   "execution_count": 27,
   "metadata": {},
   "outputs": [],
   "source": [
    "#Si tenemos una coleccion de datos en una lista y queremos acceder a\n",
    "#cada valor de esa lista en detalle. Utilizaremos el viejo y querido \n",
    "#ciclo while. Primero crearíamos la lista"
   ]
  },
  {
   "cell_type": "code",
   "execution_count": 28,
   "metadata": {},
   "outputs": [
    {
     "name": "stdout",
     "output_type": "stream",
     "text": [
      "5\n",
      "4\n",
      "9\n",
      "2\n"
     ]
    }
   ],
   "source": [
    "lista=[5,4,9,2]\n",
    "i=0\n",
    "while i<len(lista): #Esta es la variable de control que dice que mientras i sea menor a la longitud de la lista, el bucle se ejecutará exactamente el numero de veces necesario para procesar todos los elementos de la lista\n",
    "    elemento=lista[i] #Elemento es igual a lista en la posicion i\n",
    "    print(elemento) \n",
    "    i+=1\n"
   ]
  },
  {
   "cell_type": "code",
   "execution_count": 29,
   "metadata": {},
   "outputs": [],
   "source": [
    "#Iterar: significa repetir una accion o conjunto de acciones en un bucle, hasta que se cumpla una condicion determinada.\n",
    "\n"
   ]
  },
  {
   "cell_type": "code",
   "execution_count": 30,
   "metadata": {},
   "outputs": [
    {
     "name": "stdout",
     "output_type": "stream",
     "text": [
      "5\n",
      "4\n",
      "9\n",
      "2\n"
     ]
    }
   ],
   "source": [
    "#En el bucle for no va a necesitar una variable de control, en este caso, como en la variable i del ciclo while (ejemplo anterior). No será necesaria. \n",
    "#En su lugar el valor de cada elemento de la lista, se asigna directamente a la variable elemento, en cada iteracion del bucle for.\n",
    "\n",
    "lista=[5,4,9,2]\n",
    "for elemento in lista:\n",
    "    print(elemento)\n",
    "\n",
    "#Como podemos observar el resultado es el mismo, ambos ciclos realizan la misma tarea pero el ciclo for es mas idiomático, es mas facil de leer y mantener en \n",
    "#comprensión en relacion al ciclo while."
   ]
  },
  {
   "cell_type": "markdown",
   "metadata": {},
   "source": [
    "### ¿Qué es Iterar?"
   ]
  },
  {
   "cell_type": "code",
   "execution_count": 31,
   "metadata": {},
   "outputs": [],
   "source": [
    "#El bucle for en Python se usa para iterar sobre una secuencia de valores como una lista o una tupla o un diccionario. En cada iteración, el bucle for asigna \n",
    "#el siguiente valor de la secuencia a una variable de control del bucle y ejecuta lo que dé de codigo correspondiente."
   ]
  },
  {
   "cell_type": "markdown",
   "metadata": {},
   "source": [
    "#### Pero entonces...¿qué es un Iterable?"
   ]
  },
  {
   "cell_type": "code",
   "execution_count": 32,
   "metadata": {},
   "outputs": [],
   "source": [
    "#Es una clase que puede ser iterada.\n",
    "#Dentro de python hay gran cantidad de clases iterables: las listas, los strings, los diccionarios o tuplas. \n",
    "#Como ya habiamos visto si tenemos una clase iterable, podemos usarla a la derecha del for de la siguiente manera:"
   ]
  },
  {
   "cell_type": "code",
   "execution_count": 33,
   "metadata": {},
   "outputs": [
    {
     "name": "stdout",
     "output_type": "stream",
     "text": [
      "H\n",
      "e\n",
      "n\n",
      "r\n",
      "y\n"
     ]
    }
   ],
   "source": [
    "#Vamos a iterar una cadena string (ya que es una clase iterable)\n",
    "\n",
    "cadena=\"Henry\"\n",
    "for c in cadena:\n",
    "    print(c)"
   ]
  },
  {
   "cell_type": "code",
   "execution_count": 34,
   "metadata": {},
   "outputs": [
    {
     "name": "stdout",
     "output_type": "stream",
     "text": [
      "(0, 'H')\n",
      "(1, 'e')\n",
      "(2, 'n')\n",
      "(3, 'r')\n",
      "(4, 'y')\n"
     ]
    }
   ],
   "source": [
    "#Para enumerar los elementos de la cadena\n",
    "#enumerate() \n",
    "#imprime una tupla que contiene el indice y la letra que corresponde\n",
    "\n",
    "cadena=\"Henry\"\n",
    "for c in enumerate(cadena):\n",
    "    print(c) #Imprime una tupla al asignar una referencia a cada elemento de la lista"
   ]
  },
  {
   "cell_type": "markdown",
   "metadata": {},
   "source": [
    "#### ¿Como saber si una clase es iterable o no?"
   ]
  },
  {
   "cell_type": "code",
   "execution_count": 35,
   "metadata": {},
   "outputs": [],
   "source": [
    "#2 modos de saberlo:\n",
    "#1. Consultar documentos oficiales de Python.\n",
    "#2. Ver si hereda de iterables\n",
    "\n",
    "#Python tiene una amplia biblioteca estándar de modulos como len, print, type, entre otros. \n",
    "#python ya viene un muchos Módulos que te van a cumplir una ampli cantidad de tareas. Podemos decargar diferentes bibliotecas de python. \n",
    "#Las bibliotecas son un conjunto de módulos. \n",
    "#Los módulos: son paquetes de códigos que se utilizan para agergar funcionalidad adicional Python\n",
    " "
   ]
  },
  {
   "cell_type": "code",
   "execution_count": 36,
   "metadata": {},
   "outputs": [],
   "source": [
    "#Método isinstance: para comprobar si el objeto es o no, iterable\n",
    "\n",
    "from collections.abc import Iterable\n",
    "cadena=\"Henry\"\n",
    "numero=9"
   ]
  },
  {
   "cell_type": "code",
   "execution_count": 37,
   "metadata": {},
   "outputs": [
    {
     "data": {
      "text/plain": [
       "True"
      ]
     },
     "execution_count": 37,
     "metadata": {},
     "output_type": "execute_result"
    }
   ],
   "source": [
    "isinstance(cadena,Iterable)"
   ]
  },
  {
   "cell_type": "code",
   "execution_count": 38,
   "metadata": {},
   "outputs": [
    {
     "data": {
      "text/plain": [
       "False"
      ]
     },
     "execution_count": 38,
     "metadata": {},
     "output_type": "execute_result"
    }
   ],
   "source": [
    "isinstance(numero,Iterable)"
   ]
  },
  {
   "cell_type": "code",
   "execution_count": 39,
   "metadata": {},
   "outputs": [],
   "source": [
    "#list() convierte a una lista en iterable"
   ]
  },
  {
   "cell_type": "code",
   "execution_count": 40,
   "metadata": {},
   "outputs": [
    {
     "name": "stdout",
     "output_type": "stream",
     "text": [
      "['H', 'e', 'n', 'r', 'y']\n"
     ]
    }
   ],
   "source": [
    "print(list(\"Henry\"))\n",
    "\n",
    "#Como vemos, trasformo los elementos string en una lista"
   ]
  },
  {
   "cell_type": "code",
   "execution_count": 41,
   "metadata": {},
   "outputs": [
    {
     "name": "stdout",
     "output_type": "stream",
     "text": [
      "6\n"
     ]
    }
   ],
   "source": [
    "#sum para hacer la suma de los elementos de la lista.\n",
    "\n",
    "print(sum([1,2,3]))"
   ]
  },
  {
   "cell_type": "code",
   "execution_count": 42,
   "metadata": {},
   "outputs": [],
   "source": [
    "#join() Toma una secuencia, como puede ser una cadena, una lista o tupla y devuelve una cadena que contiene\n",
    "#los elementos de la secuencia concateandos con un separador especificado por nosotros"
   ]
  },
  {
   "cell_type": "code",
   "execution_count": 43,
   "metadata": {},
   "outputs": [
    {
     "name": "stdout",
     "output_type": "stream",
     "text": [
      "H-e-n-r-y\n"
     ]
    }
   ],
   "source": [
    "#join() concatenar una secuencia iterable, en una cadena de texto\n",
    "print(\"-\".join(\"Henry\"))"
   ]
  },
  {
   "cell_type": "code",
   "execution_count": 44,
   "metadata": {},
   "outputs": [
    {
     "name": "stdout",
     "output_type": "stream",
     "text": [
      "a\n",
      "b\n",
      "c\n"
     ]
    }
   ],
   "source": [
    "#podemos iterar un diccionario, devuelve las claves del diccionario.\n",
    "mi_dict={\"a\":1,\"b\":2,\"c\":3}\n",
    "for i in mi_dict:\n",
    "    print(i)"
   ]
  },
  {
   "cell_type": "code",
   "execution_count": 45,
   "metadata": {},
   "outputs": [],
   "source": [
    "#Las clases iterables, son lo que se pueden usar con el ciclo for: lista, tupla, diccionario, las cadenas, entre otros tipos de datos.\n"
   ]
  },
  {
   "cell_type": "markdown",
   "metadata": {},
   "source": [
    "### Iteradores"
   ]
  },
  {
   "cell_type": "code",
   "execution_count": 46,
   "metadata": {},
   "outputs": [],
   "source": [
    "#Con iter vamor a poder saber en que parte del libro estamos. \n",
    "#Es un iterador de elementos, sin tener que cargar todos los datos al mismo tiempo\n",
    "libro=[\"pagina1\", \"pagina2\", \"pagina3\", \"pagina4\"]\n",
    "marcapaginas=iter(libro)"
   ]
  },
  {
   "cell_type": "code",
   "execution_count": 47,
   "metadata": {},
   "outputs": [
    {
     "data": {
      "text/plain": [
       "list_iterator"
      ]
     },
     "execution_count": 47,
     "metadata": {},
     "output_type": "execute_result"
    }
   ],
   "source": [
    "type(marcapaginas)"
   ]
  },
  {
   "cell_type": "code",
   "execution_count": 48,
   "metadata": {},
   "outputs": [
    {
     "name": "stdout",
     "output_type": "stream",
     "text": [
      "pagina1\n"
     ]
    }
   ],
   "source": [
    "#next() para el seguiente elemnto de una secuencia interable\n",
    "print(next(marcapaginas))"
   ]
  },
  {
   "cell_type": "code",
   "execution_count": 49,
   "metadata": {},
   "outputs": [
    {
     "name": "stdout",
     "output_type": "stream",
     "text": [
      "pagina2\n"
     ]
    }
   ],
   "source": [
    "print(next(marcapaginas))"
   ]
  },
  {
   "cell_type": "code",
   "execution_count": 50,
   "metadata": {},
   "outputs": [
    {
     "name": "stdout",
     "output_type": "stream",
     "text": [
      "pagina3\n"
     ]
    }
   ],
   "source": [
    "print(next(marcapaginas))"
   ]
  },
  {
   "cell_type": "code",
   "execution_count": 51,
   "metadata": {},
   "outputs": [
    {
     "name": "stdout",
     "output_type": "stream",
     "text": [
      "pagina4\n"
     ]
    }
   ],
   "source": [
    "print(next(marcapaginas))\n",
    "#Esto es lo que hace el ciclo for por debajo, y lo hace de manera secuencial"
   ]
  },
  {
   "cell_type": "code",
   "execution_count": 52,
   "metadata": {},
   "outputs": [
    {
     "ename": "StopIteration",
     "evalue": "",
     "output_type": "error",
     "traceback": [
      "\u001b[1;31m---------------------------------------------------------------------------\u001b[0m",
      "\u001b[1;31mStopIteration\u001b[0m                             Traceback (most recent call last)",
      "Cell \u001b[1;32mIn[52], line 1\u001b[0m\n\u001b[1;32m----> 1\u001b[0m \u001b[38;5;28mprint\u001b[39m(\u001b[38;5;28;43mnext\u001b[39;49m\u001b[43m(\u001b[49m\u001b[43mmarcapaginas\u001b[49m\u001b[43m)\u001b[49m)\n",
      "\u001b[1;31mStopIteration\u001b[0m: "
     ]
    }
   ],
   "source": [
    "print(next(marcapaginas))"
   ]
  },
  {
   "cell_type": "code",
   "execution_count": null,
   "metadata": {},
   "outputs": [],
   "source": [
    "#excepciones es cuando surge el stop iterator cuando se ha llegado al final de los elemtentos a iterar\n",
    "#Acceder al primer elemento utilizando next para luego acceder a cualquier otro elmento."
   ]
  },
  {
   "cell_type": "markdown",
   "metadata": {},
   "source": [
    "### Sentencia Zip"
   ]
  },
  {
   "cell_type": "code",
   "execution_count": null,
   "metadata": {},
   "outputs": [],
   "source": [
    "#Es una funcion integrada en Python que toma 2 o mas iterables y los combina en una sola estructura.\n",
    "#Esto hace que se puedo trabajar sobre los elementos de ambas estructuras iterables originales, por ejemplo: si tengo 2 listas, con el uso de zip() puedo combinarlas es una lista de tuplas.\n",
    "##Característica de zip, es que cada iterador se detendrá cuando se agoten los elementos del iterable mas corto.\n"
   ]
  },
  {
   "cell_type": "code",
   "execution_count": 53,
   "metadata": {},
   "outputs": [],
   "source": [
    "lista_1=[1,2,3]\n",
    "lista_2=[\"a\",\"b\",\"c\"]\n",
    "combinacion=zip(lista_1, lista_2)"
   ]
  },
  {
   "cell_type": "code",
   "execution_count": 54,
   "metadata": {},
   "outputs": [
    {
     "name": "stdout",
     "output_type": "stream",
     "text": [
      "<class 'zip'>\n"
     ]
    }
   ],
   "source": [
    "print(type(combinacion))"
   ]
  },
  {
   "cell_type": "code",
   "execution_count": 55,
   "metadata": {},
   "outputs": [
    {
     "name": "stdout",
     "output_type": "stream",
     "text": [
      "(1, 'a')\n",
      "(2, 'b')\n",
      "(3, 'c')\n"
     ]
    }
   ],
   "source": [
    "for elemento in combinacion:\n",
    "    print(elemento)\n",
    "#Imprime una secuencia de tupla."
   ]
  },
  {
   "cell_type": "markdown",
   "metadata": {},
   "source": [
    "## Añadiendo condicionales a iterables"
   ]
  },
  {
   "cell_type": "code",
   "execution_count": null,
   "metadata": {},
   "outputs": [],
   "source": [
    "#lista=[expresion for elemento in iterable if condicion]\n",
    "\n",
    "#Lista es el nombre que se creara para la comprension de una lista.\n",
    "#Expresion:es la operacion que se realizara en cada elemento del iterable para crear el elemento de la nueva lista. Puede ser una operacion matematica \n",
    "#o concatenacion, entre otras.\n",
    "#Elemento: la variable que representa cada elemento del iterable original. Ésta variable se utiliza dentro de la expresion.\n",
    "#iterable va a ser la secuencia original de la que se crea una lista, pude ser una tupla, un rango o un conjunto, entre otros\n",
    "#Condición del if: que es una expresion booleana que se evalúa en cada elemento del iterable, solo se aplicará en aquellos elementos que cumplan con dicha confición.\n",
    "#Si no se especifica dicha una condicion, se aplicará a todos los elementos del iterable."
   ]
  },
  {
   "cell_type": "code",
   "execution_count": 56,
   "metadata": {},
   "outputs": [
    {
     "name": "stdout",
     "output_type": "stream",
     "text": [
      "[4, 8, 12]\n"
     ]
    }
   ],
   "source": [
    "numeros=[1,2,3,4,5,6] #Tengo una lista, pero quiero obtener los numeros pares multiplicados por 2. Lo escribimos asi.\n",
    "pares_por_dos=[x*2 for x in numeros if x%2==0]\n",
    "print(pares_por_dos)"
   ]
  },
  {
   "cell_type": "code",
   "execution_count": 57,
   "metadata": {},
   "outputs": [
    {
     "name": "stdout",
     "output_type": "stream",
     "text": [
      "['r', 'r', 'r', 'r']\n"
     ]
    }
   ],
   "source": [
    "frase=\"El perro de san roque no tiene rabo\"\n",
    "erres=[i for i in frase if i==\"r\"]\n",
    "print(erres) #Lo que hace el codigo es iterar cada letra de la frase y si es una r, la añade a la lista. El resutlado es una lista con tantas erres como tenga la frase original"
   ]
  },
  {
   "cell_type": "code",
   "execution_count": 58,
   "metadata": {},
   "outputs": [
    {
     "name": "stdout",
     "output_type": "stream",
     "text": [
      "4\n"
     ]
    }
   ],
   "source": [
    "print(len(erres)) #Podemos ver la cantidad de veces que se repite la r."
   ]
  },
  {
   "cell_type": "code",
   "execution_count": null,
   "metadata": {},
   "outputs": [],
   "source": [
    "#La comprension de lista en python es una tecnica para crear nuevas listas a partir de un iterable existente, aplicando una expresion a cada uno de los elementos y eventualemente, filtrarla por alguna condicion.\n",
    "#La sintaxis: la expresion: es el valor que se le asigna a la nueva lista, for: elemento, in: el iterable, if: la condicion. donde la expresion determina la operacion que se realizará en cada uno de los elementos y la expresion booleana, que se aplicara en cada elemento de la expresion.\n",
    "##El resultado: se imprimen los elementos que cumplen con la condicion y son las que llevan el nombre de la nueva lista.\n",
    "\n"
   ]
  }
 ],
 "metadata": {
  "kernelspec": {
   "display_name": "Python 3",
   "language": "python",
   "name": "python3"
  },
  "language_info": {
   "codemirror_mode": {
    "name": "ipython",
    "version": 3
   },
   "file_extension": ".py",
   "mimetype": "text/x-python",
   "name": "python",
   "nbconvert_exporter": "python",
   "pygments_lexer": "ipython3",
   "version": "3.11.9"
  }
 },
 "nbformat": 4,
 "nbformat_minor": 2
}
