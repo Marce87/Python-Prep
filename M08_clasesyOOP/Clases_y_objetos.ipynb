{
 "cells": [
  {
   "cell_type": "code",
   "execution_count": 1,
   "metadata": {},
   "outputs": [],
   "source": [
    "#Python es el lenguaje de porgramacion mas facil y versatil que podemos encontrar y su enfoque esta orientada a objetos (POO). Esta forma de programar es la forma mas parecida que tenemos de pensar el mundo, los seres humanos.\n",
    "#Vamos a ver que la programcion orientada a objetos es un paradigma de\n",
    "#programacion en la que los datos y las operaciones que pueden realizarse con esos datos justamentes, se agrupan en dos unidades llamadas: objetos\n",
    "#Estas unidades las vamos a entender como unidades logicas.\n",
    "#Nosotros, los seres humanos vemos la realidad como objetos que se \n",
    "#interrelacionan entre sí, realizan acciones y ésto es lo que intenta imitar ésta forma de programacion. \n",
    "#Como recien comentamos, la programcion orientada a objetos es y un paradigma de programacion que parte de concepto que parte de objetos como base, estos contienen informacion con forma de atributo y codigo en forma de métodos. \n",
    "#Los objetos se van a crear a partir de una plantilla llamada Clase y cada objeto es una instancia de su clase.\n",
    "#Ejemplo: si tenemos la clase: gato, podemos insanciar que seria el nombre Pompón, el nombre de un gato particular. El objeto tienen datos llamados Atributos y funcionalidades (Instancia) llamada a partir de los Métodos.\n",
    "#A partir de la clase gato, hemos instanceado (Instanciación) la palabra Pompón, gris, siames, 2 años, macho. Serían los valores de los atributos de este nuevo objeto. Maulla, juega, come y camina, serian funcionalidades o Métodos.\n",
    "#Estos metodos y atributos de Pompón, en realidad se definen en la clase, al momento de crear la clase gato y luego al Instancear, es decir, a crear un nuevo objeto a partir de una clase, se brindadn los argumentos para esos atributos y metodos. Entonces, los atributos: nombre, edad, sexo, raza, fueron previamente definidos en la clase gato, al igual que sus metodos: que maulla, juega, come, camina.\n",
    "#Vamos a instanciar un nuevo objeto a la gata 'Michita'. Como podemos ver, los objetos Pompón y Michita pertenecen a la misma clase Gato pero poseen diferentes valores para los atributos de raza, sexo, edad y quizas tenga diferentes argumentos para metodos, o seam valores para sus parámetros. Por ejemplo, diferentes tipo de juegos, diferentes tiempos de comida, distancia que caminana, etc.\n",
    "#Hasta ahora hemos aprendido que los objetos se crean a partir de una plantilla llamada Clase y cada objeto es una instancia de su clase y esto tiene sus atributos y metodos.\n"
   ]
  },
  {
   "cell_type": "markdown",
   "metadata": {},
   "source": [
    "### Sintaxis de una Clase"
   ]
  },
  {
   "cell_type": "code",
   "execution_count": null,
   "metadata": {},
   "outputs": [],
   "source": [
    "#Usamos la palabra Class para definir una clase, seguido del nombre del nombre de la clase. Class Nombre_clase. Y debajo y dentro del codigo vamos a definir el metodo constructor de esa clase.\n",
    "#Escribimos dos guines bajos, seguido por la palabra init, dos guiones bajos otra vez y seguido entre parentesis para definir los parametros y los 2 puntos, teniendo asi teniendo dentro de la clase, otro bloque de codigo.\n",
    "#_ _init_ _ contrucor de la clase\n",
    "#Nos vamos a detener ahora en el  metodo de constructor de clases, vamos con init, su fucion es inicializar los atributos del objeto creado a aprtir de la clase que lo posea, El constructor init es una funcion definida dentro de la clase, que acepta al menos, 1 argumento.\n",
    "#Self que se refiere a inicializar el objeto. Usualmente se agregan otros argumentos al constructor para establecer los valores iniciales de los atributos de la clase. \n",
    "#Por ejemplo, tenemos la clase Estudiante que tiene 2 atributos: nombre y edad. Siguiendo el ejemplo debemos crear varios objetos a partir de la clase creada y tendran todos esos metodos como por ejemplo, el atributo de nombre y edad."
   ]
  },
  {
   "cell_type": "code",
   "execution_count": 2,
   "metadata": {},
   "outputs": [],
   "source": [
    "class Gato: #La clase siempre van a comenzar con mayuscula.\n",
    "    def __init__(self,nombre,edad): #dentro de la clase gato, vamos a crear el metodo constructor y para eso vamos a utilizar la palabra reservada def seguida por el guion bajo doble, init, doble guion bajo otra vez y entre parentesis vamos a definir los parametros, donde el primero es la palabra es self, coma y nuestros atributos separados por coma.\n",
    "        self.nombre = nombre #mediante self.nombre definimos el atributo nombre que será justamente con el nombre asignado.\n",
    "        self.edad = edad #Y el atributo edad, sea con la edad asiganda."
   ]
  },
  {
   "cell_type": "code",
   "execution_count": 3,
   "metadata": {},
   "outputs": [],
   "source": [
    "#Ahora vamos instansear, es decir, crear un objeto de la clase gato y vamos a tener que definir un nombre para nuestro objeto que va a ser gato1 que va a ser igual que pertenece a la clase gato y dentro de parentesis indicamos los valores, argumentos para nombre y edad. En este caso el nombre sera Pompon y tendra 2 años de edad.\n",
    "\n",
    "gato1 = Gato('Pompón',2)"
   ]
  },
  {
   "cell_type": "code",
   "execution_count": null,
   "metadata": {},
   "outputs": [],
   "source": [
    "#Es importante el orden que deben seguir, que debe ser igual al que definimos en los argumentos en el constructor de la clase. No necesitamos especificar que el argumento Pompón, corresponde al atributo nombre ni que el 2, correspondo al argumeto edad.\n",
    "#Si tuvieramos mas atributos, el interpete sería por el orden del indice en le que le pasamos los argumentos y declaramos los parámetros. Ahora vamos a agregarle 2 atributos mas al contructor: raza y sexo."
   ]
  },
  {
   "cell_type": "code",
   "execution_count": 6,
   "metadata": {},
   "outputs": [],
   "source": [
    "class Gato:\n",
    "    def __init__(self,nombre,edad, raza, sexo):\n",
    "        self.nombre= nombre #Self quiere decir, éste o si mismo y se refiere al futuro del objeto instanseado o creado a partir de la clase.\n",
    "        self.edad= edad\n",
    "        self.raza= raza\n",
    "        self.sexo= sexo"
   ]
  },
  {
   "cell_type": "code",
   "execution_count": 7,
   "metadata": {},
   "outputs": [],
   "source": [
    "gato1= Gato('Pompón', 2, 'Siames', 'Macho')"
   ]
  },
  {
   "cell_type": "code",
   "execution_count": 8,
   "metadata": {},
   "outputs": [
    {
     "name": "stdout",
     "output_type": "stream",
     "text": [
      "<__main__.Gato object at 0x000001A743CCE8D0>\n"
     ]
    }
   ],
   "source": [
    "print(gato1) #Ejecutamos el codigo y no tenemos errores pero no nos devuelve nada pero tampoco tenemos ningun tipo de salida. ¿Como hacer para que nos devuelva la informacion de nuestro objeto?\n",
    "#Vamos crear un metodo que nos devuelva toda la información de los objetos que tenemos instanseados. "
   ]
  },
  {
   "cell_type": "code",
   "execution_count": 9,
   "metadata": {},
   "outputs": [],
   "source": [
    "#Para crear un metodo lo hacemos a traves de la palabra reservada def seguido de ella misma(self), el nombre del metodo que vamos a estar utilizando y luego, parentesis y los parametros. Como no vamos a utilizar parametros, solo vamos a escribir dos puntos y contunuamos debajo identando. En este caso nuestro metodo va a imprimir informacion del objeto instanseado: nombre, edad, raza y sexo.\n",
    "\n",
    "class Gato:\n",
    "    def __init__(self,nombre,edad, raza, sexo):\n",
    "        self.nombre= nombre\n",
    "        self.edad= edad\n",
    "        self.raza= raza\n",
    "        self.sexo= sexo\n",
    "    \n",
    "    #Metodo Presentar\n",
    "\n",
    "    def presentar(self):\n",
    "        return print('Nombre:', self.nombre, 'Edad:', self.edad, 'Raza:', self.raza, 'Sexo:', self.sexo)"
   ]
  },
  {
   "cell_type": "code",
   "execution_count": 10,
   "metadata": {},
   "outputs": [],
   "source": [
    "gato1= Gato('Pompón', 2, 'Siames', 'Macho')"
   ]
  },
  {
   "cell_type": "code",
   "execution_count": 11,
   "metadata": {},
   "outputs": [
    {
     "name": "stdout",
     "output_type": "stream",
     "text": [
      "Nombre: Pompón Edad: 2 Raza: Siames Sexo: Macho\n"
     ]
    }
   ],
   "source": [
    "gato1.presentar()"
   ]
  },
  {
   "cell_type": "markdown",
   "metadata": {},
   "source": [
    "### Pilares de la POO"
   ]
  },
  {
   "cell_type": "code",
   "execution_count": null,
   "metadata": {},
   "outputs": [],
   "source": [
    "#Vamos a conocer los 4 pilares de la programacion orientada a objetos.\n",
    "#Abstracción: separamos las datos de un objeto para luego generar un molde(clase). Cuando creamos la clase gato utilizamos la abstraccion de sus atributos, como son el nombre, la edad, el sexo y la raza.\n",
    "# Encapsulamiento: se utiliza cuando es necesario que ciertos metodos o metodos sean inviolables o inalterables. Se refiere a la ocultacion de los detalles internos para proteger los datos y comportamientos de esa Clase de accesos no autorizados o modificaciones accidentales. Es como un cofre con una cerradura: los datos y comportamientos de una clase se almacenan dentro del cofre y solamente se puede acceder a ellos, a traves de metodos publicos y autorizados."
   ]
  },
  {
   "cell_type": "code",
   "execution_count": null,
   "metadata": {},
   "outputs": [],
   "source": [
    "#Ejemplo de encapsulamiento:\n",
    "class CuentaBancaria:\n",
    "    def __init__(self, saldo):\n",
    "        self.__saldo= saldo #El atributo saldo esta encapsulado con __\n",
    "    \n",
    "    def depositar(self, monto):\n",
    "        self.__saldo += monto #Se adiciona el monto al saldo\n",
    "    \n",
    "    def retirar(self, monto): #si el monto es mayor a retirar\n",
    "        if self.__saldo >= monto:\n",
    "            self.__saldo -= monto #Se resta el monto\n",
    "        else:\n",
    "            print('Saldo insuficiente') #de lo contrario, saldo insu.\n",
    "    \n",
    "    def obtener_saldo(self):\n",
    "        return self.__saldo"
   ]
  },
  {
   "cell_type": "code",
   "execution_count": null,
   "metadata": {},
   "outputs": [],
   "source": [
    "#3er pilar: Herencia. Nos va a permitir crear nuevas clases a partir de otras. A partir de la clase Gato, pudimos crear la clase gato1, con los nuevos atributos podemos llegar a crear la clase gato2, que tambien va a tomar propiedades de la clase Gato. Esto nos da una jerarquia de padre e hijo. "
   ]
  },
  {
   "cell_type": "code",
   "execution_count": 12,
   "metadata": {},
   "outputs": [],
   "source": [
    "gato2= Gato('Nina',3,'Mezcla','Hembra')"
   ]
  },
  {
   "cell_type": "code",
   "execution_count": 13,
   "metadata": {},
   "outputs": [
    {
     "name": "stdout",
     "output_type": "stream",
     "text": [
      "Nombre: Nina Edad: 3 Raza: Mezcla Sexo: Hembra\n"
     ]
    }
   ],
   "source": [
    "gato2.presentar()"
   ]
  },
  {
   "cell_type": "code",
   "execution_count": null,
   "metadata": {},
   "outputs": [],
   "source": [
    "#Ultimo pilar, el Polimorfismo. Sirve para crear metodos con el mismo nombre pero con diferente comportamiento"
   ]
  },
  {
   "cell_type": "code",
   "execution_count": 14,
   "metadata": {},
   "outputs": [],
   "source": [
    "#Ejemplo:\n",
    "\n",
    "class Animal:\n",
    "    def __init__(self, especie,edad,color):\n",
    "        self.especie= especie\n",
    "        self.edad= edad\n",
    "        self.color= color\n",
    "    \n",
    "    def mePresento(self):\n",
    "        print('Hola, soy:', self.especie,'de color:',self.color,'y tengo',self.edad,'años')\n",
    "    \n",
    "    def cumplirAños(self):\n",
    "        self.edad= self.edad + 1"
   ]
  },
  {
   "cell_type": "code",
   "execution_count": 15,
   "metadata": {},
   "outputs": [],
   "source": [
    "a1= Animal('Ratón',2,'Marron')\n",
    "a2= Animal('Liebre',3,'Gris')"
   ]
  }
 ],
 "metadata": {
  "kernelspec": {
   "display_name": "Python 3",
   "language": "python",
   "name": "python3"
  },
  "language_info": {
   "codemirror_mode": {
    "name": "ipython",
    "version": 3
   },
   "file_extension": ".py",
   "mimetype": "text/x-python",
   "name": "python",
   "nbconvert_exporter": "python",
   "pygments_lexer": "ipython3",
   "version": "3.11.9"
  }
 },
 "nbformat": 4,
 "nbformat_minor": 2
}
