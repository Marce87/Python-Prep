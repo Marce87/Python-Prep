{
 "cells": [
  {
   "cell_type": "markdown",
   "metadata": {},
   "source": [
    "## Funciones"
   ]
  },
  {
   "cell_type": "code",
   "execution_count": 2,
   "metadata": {},
   "outputs": [],
   "source": [
    "def calcular_area_rectangulo(base,altura):\n",
    "    area = base*altura\n",
    "    return area #para devolver el valor del area."
   ]
  },
  {
   "cell_type": "code",
   "execution_count": 3,
   "metadata": {},
   "outputs": [
    {
     "data": {
      "text/plain": [
       "20"
      ]
     },
     "execution_count": 3,
     "metadata": {},
     "output_type": "execute_result"
    }
   ],
   "source": [
    "calcular_area_rectangulo(4,5)"
   ]
  },
  {
   "cell_type": "markdown",
   "metadata": {},
   "source": [
    "### Limites al declarar funciones"
   ]
  },
  {
   "cell_type": "code",
   "execution_count": null,
   "metadata": {},
   "outputs": [],
   "source": [
    "#Los nombres no pueden comenzar con digitos."
   ]
  },
  {
   "cell_type": "code",
   "execution_count": 4,
   "metadata": {},
   "outputs": [
    {
     "ename": "SyntaxError",
     "evalue": "invalid decimal literal (3624973692.py, line 1)",
     "output_type": "error",
     "traceback": [
      "\u001b[1;36m  Cell \u001b[1;32mIn[4], line 1\u001b[1;36m\u001b[0m\n\u001b[1;33m    def 2_calcular_area_rectangulo(base,altura):\u001b[0m\n\u001b[1;37m         ^\u001b[0m\n\u001b[1;31mSyntaxError\u001b[0m\u001b[1;31m:\u001b[0m invalid decimal literal\n"
     ]
    }
   ],
   "source": [
    "def 2_calcular_area_rectangulo(base,altura):\n",
    "    area = base*altura\n",
    "    return area #para devolver el valor del area."
   ]
  },
  {
   "cell_type": "code",
   "execution_count": null,
   "metadata": {},
   "outputs": [],
   "source": [
    "#No se pueden utilizar palabras reservadas para python: False, class,\n",
    "#return, None, continue, lambda, try y while."
   ]
  },
  {
   "cell_type": "code",
   "execution_count": 5,
   "metadata": {},
   "outputs": [
    {
     "ename": "SyntaxError",
     "evalue": "invalid syntax (3536204962.py, line 1)",
     "output_type": "error",
     "traceback": [
      "\u001b[1;36m  Cell \u001b[1;32mIn[5], line 1\u001b[1;36m\u001b[0m\n\u001b[1;33m    def True(base, altura):\u001b[0m\n\u001b[1;37m        ^\u001b[0m\n\u001b[1;31mSyntaxError\u001b[0m\u001b[1;31m:\u001b[0m invalid syntax\n"
     ]
    }
   ],
   "source": [
    "def True(base, altura):\n",
    "area= base*altura\n",
    "return area"
   ]
  },
  {
   "cell_type": "code",
   "execution_count": null,
   "metadata": {},
   "outputs": [],
   "source": [
    "#Las variables deben tener diferentes nombres. Los nombres de las \n",
    "#funciones deben ser descriptivos de lo que hacen las funciones.\n",
    "#Como en el ejemplo que acabamos de realizar que la funcion se llamó:\n",
    "#Calcular area del rectangulo."
   ]
  },
  {
   "cell_type": "code",
   "execution_count": 6,
   "metadata": {},
   "outputs": [],
   "source": [
    "#Los parámetros pueden teneres valor por defecto, esto significa que \n",
    "#en el caso que no se proporcionara un valor para ese parametro, en el \n",
    "#momento de llamar a esa funcion, se va a utilizar el valor por defecto.\n",
    "\n",
    "def saludar(nombre,saludo=\"Hola\"): #En este ejemplo el parametro saludar toma 2 parametros:\n",
    "    print(saludo+\",\"+nombre) #nombre y saludo. El parametro *nombre* es obligatorio y es \n",
    "                            #determinado a llamar a la funcion. \n",
    "                            #Mientras que el parámetro saludo, tiene\n",
    "                            #un valor por defecto de 'Hola'."
   ]
  },
  {
   "cell_type": "code",
   "execution_count": 7,
   "metadata": {},
   "outputs": [
    {
     "name": "stdout",
     "output_type": "stream",
     "text": [
      "Hola,Juan\n"
     ]
    }
   ],
   "source": [
    "saludar('Juan') #esto significa que si no se diera un valor para \n",
    "#el parametro saludo, se va utilizar el valor por defecto, es este\n",
    "#caso 'Hola'"
   ]
  },
  {
   "cell_type": "code",
   "execution_count": 8,
   "metadata": {},
   "outputs": [
    {
     "name": "stdout",
     "output_type": "stream",
     "text": [
      "Buenos dias,Maria\n"
     ]
    }
   ],
   "source": [
    "#En este otro ejemplo vamos a ejecutar parametros-parametros\n",
    "saludar(\"Maria\",\"Buenos dias\") #por lo que se va a utilizar el valor \n",
    "                            #proporcionado para el parametro saludo.\n",
    "                            #Entonces al ejecutar..."
   ]
  },
  {
   "cell_type": "code",
   "execution_count": null,
   "metadata": {},
   "outputs": [],
   "source": [
    "#Una funcion puede devolver ninguno, uno o mas de un valor, y de \n",
    "#diferente tipos de dato."
   ]
  },
  {
   "cell_type": "code",
   "execution_count": 9,
   "metadata": {},
   "outputs": [],
   "source": [
    "def imprimir_mensaje():\n",
    "    print(\"Hola, mundo!\")"
   ]
  },
  {
   "cell_type": "code",
   "execution_count": 10,
   "metadata": {},
   "outputs": [
    {
     "name": "stdout",
     "output_type": "stream",
     "text": [
      "Hola, mundo!\n"
     ]
    }
   ],
   "source": [
    "imprimir_mensaje() #Al ejecutar, no devuelve ningun valor, simplemente\n",
    "                    #va a imprimir un mensaje en la pantalla que es el de \"Hola, mundo!\"\""
   ]
  },
  {
   "cell_type": "code",
   "execution_count": 11,
   "metadata": {},
   "outputs": [],
   "source": [
    "#Una funcion que devuelva un valor.\n",
    "def sumar(sumando1,sumando2):\n",
    "    resultado=sumando1+sumando2\n",
    "    return resultado"
   ]
  },
  {
   "cell_type": "code",
   "execution_count": 12,
   "metadata": {},
   "outputs": [
    {
     "data": {
      "text/plain": [
       "17"
      ]
     },
     "execution_count": 12,
     "metadata": {},
     "output_type": "execute_result"
    }
   ],
   "source": [
    "sumar(8,9) #(se cargan los argumentos) que se van a sumar."
   ]
  },
  {
   "cell_type": "code",
   "execution_count": 13,
   "metadata": {},
   "outputs": [],
   "source": [
    "#Una funcion tambien puede devolver varios valores.\n",
    "def dividir(dividendo,divisor): #(2 parametros)\n",
    "    cociente=dividendo//divisor\n",
    "    resto=dividendo%divisor\n",
    "    return cociente,resto"
   ]
  },
  {
   "cell_type": "code",
   "execution_count": 14,
   "metadata": {},
   "outputs": [
    {
     "data": {
      "text/plain": [
       "(4, 2)"
      ]
     },
     "execution_count": 14,
     "metadata": {},
     "output_type": "execute_result"
    }
   ],
   "source": [
    "dividir(14,3) #(14,3 parametros) #Devuelve cociente y resto, 2 valores."
   ]
  },
  {
   "cell_type": "code",
   "execution_count": 15,
   "metadata": {},
   "outputs": [],
   "source": [
    "#Se puede asignar a variables, el resutlado de una funcion.\n",
    "def obtener_edad():\n",
    "    return 30"
   ]
  },
  {
   "cell_type": "code",
   "execution_count": 16,
   "metadata": {},
   "outputs": [],
   "source": [
    "edad=obtener_edad()"
   ]
  },
  {
   "cell_type": "code",
   "execution_count": 17,
   "metadata": {},
   "outputs": [
    {
     "name": "stdout",
     "output_type": "stream",
     "text": [
      "La edad es: 30\n"
     ]
    }
   ],
   "source": [
    "print(\"La edad es:\", edad)"
   ]
  },
  {
   "cell_type": "code",
   "execution_count": 18,
   "metadata": {},
   "outputs": [],
   "source": [
    "#Como hemos visto, podemos imprimir una variable dentro de un string\n",
    "def imprimir_valor_variable(var): #1 Var es nuestra variable string,\n",
    "    print(\"El valor de la variable es:\" + str(var))"
   ]
  },
  {
   "cell_type": "code",
   "execution_count": 19,
   "metadata": {},
   "outputs": [
    {
     "name": "stdout",
     "output_type": "stream",
     "text": [
      "El valor de la variable es:22\n"
     ]
    }
   ],
   "source": [
    "imprimir_valor_variable(22) #1 Por eso le asignamos el valor 22"
   ]
  },
  {
   "cell_type": "code",
   "execution_count": 20,
   "metadata": {},
   "outputs": [],
   "source": [
    "#Imprimir 2 valores ordenados de menor a mayor.\n",
    "def ordenar_dos_numeros(num1=0,num2=0): #Los argumentos num1 y num2 son inicializados con un valor predeterminado de cero, en caso de que no se proporcione el argumento al momento de llamar a la funcion.\n",
    "    if(num1>num2): #La funcion comprueba de num1 es mayor que num2 \n",
    "        return num2, num1 #Devuelve num1 y num2 se intercambiarán para que num2 sea el primer valor de la tupla y num1 el segundo\n",
    "    else: #Si num1 no es mayor a num2 entonces la sentencia se va a ejecutar y la funcion tendra como primer elemento num1 y num2 como segundo elemento\n",
    "        return num1, num2 "
   ]
  },
  {
   "cell_type": "code",
   "execution_count": 21,
   "metadata": {},
   "outputs": [
    {
     "data": {
      "text/plain": [
       "(2, 4)"
      ]
     },
     "execution_count": 21,
     "metadata": {},
     "output_type": "execute_result"
    }
   ],
   "source": [
    "ordenar_dos_numeros(4,2) "
   ]
  },
  {
   "cell_type": "markdown",
   "metadata": {},
   "source": [
    "### ¿Dónde acceder a las variables?"
   ]
  },
  {
   "cell_type": "code",
   "execution_count": 4,
   "metadata": {},
   "outputs": [],
   "source": [
    "#Vamos a analizar 2 palabras que ya estuvimos utilizando y son: declarar y ejecutar\n",
    "#Declarar es escribir su estructura\n",
    "#Ejecutar es llamar a la funcion y ejecutar su codigo \n",
    "#Estas 2 cosas ocurren en sentencias diferentes\n",
    "\n",
    "#¿Donde acceder a las variables?\n",
    "#Cada vez que una sentencia se ejecuta, se genera un contenedor, donde\n",
    "#las variables de la funcion van a vivir. Una vez que estas variables se\n",
    "#salen de la funcion, van a dejar de existir. Este contenedor se denomina \n",
    "#\"espacio de nombres, alzance o scope\" de la función.\n",
    "\n",
    "#Dentro de una funcion puede haber una variable que solo se puede utilizar\n",
    "#dentro del cuerpo de la funcion, estas son las variables locales\n",
    "#Mientras que las variables en el código del cual se llaman a la funcion\n",
    "#son variables globales.\n",
    "\n",
    "#Una variable declarada fuera de cualquier funcion o clase, tiene un \n",
    "#alcance global, esto quiere decir que puede ser accedida de cualquier\n",
    "#lugar del programa, incluyendo, dentro de la funcion clases.\n",
    "#Una variable declarada dentro de una funcion o clase, tiene un alcance\n",
    "#local, esto significa que solo puede ser accedida dentro de la funcion\n",
    "#clase y no fuera de ella. \n",
    "\n",
    "#Es importante entender el alcance de una variable, para despues evitar\n",
    "#errores en el codigo y poder garantizar que las variables sean \n",
    "#utilizadas correctamente en las partes correspondientes del programa\n"
   ]
  },
  {
   "cell_type": "code",
   "execution_count": 5,
   "metadata": {},
   "outputs": [],
   "source": [
    "#Veremos esto en el editor. La funcion dividir tiene 2 parámetros:\n",
    "#El dividendo y el divisor. Divisor va a tener un valor predeterminado\n",
    "#de 1 si no se proporciona un valor. La funcion con un if va verificar \n",
    "#que el divisor sea igual a cero. Si el divisor no es cero, entonces \n",
    "#la funcion realiza la división del dividendo por el divisor y devuelve\n",
    "#mediante un return, el resultado de la division.\n",
    "\n",
    "def dividir(dividendo, divisor=1):\n",
    "    if (divisor==0):\n",
    "        return \"No se puede dividir por cero\"\n",
    "    else:\n",
    "        return dividendo/divisor"
   ]
  },
  {
   "cell_type": "code",
   "execution_count": 6,
   "metadata": {},
   "outputs": [
    {
     "name": "stdout",
     "output_type": "stream",
     "text": [
      "10.0\n"
     ]
    }
   ],
   "source": [
    "print(dividir(10)) #Recordemos que habiamos colocado que si no se pasaba argumento, lo dividia por uno\n"
   ]
  },
  {
   "cell_type": "code",
   "execution_count": 7,
   "metadata": {},
   "outputs": [
    {
     "name": "stdout",
     "output_type": "stream",
     "text": [
      "5\n"
     ]
    }
   ],
   "source": [
    "print(divisor) #Arroja error ya que divisor es una variable local\n",
    "#dentro de la funcion. Deja de existir cuando termina el llamado a la \n",
    "#funcion. Lo que denota es que no se encuentra esa variable para imprimir, \n",
    "#ya que solo existió dentro del espacio del nombre de la funcion."
   ]
  },
  {
   "cell_type": "code",
   "execution_count": 8,
   "metadata": {},
   "outputs": [],
   "source": [
    "#Agregemos a divisor como variable fuera de la funcion y le vamos a \n",
    "#asignar el valor 5. Quitamos el parametro divisor de nuestra funcion y\n",
    "#vemos qué es lo que hace.\n",
    "\n",
    "divisor=5 #Es la variable que agregamos.\n",
    "def dividir(dividendo):\n",
    "    if(divisor==0):\n",
    "        return \"No se puede dividir por cero\"\n",
    "    else:\n",
    "        return dividendo/divisor"
   ]
  },
  {
   "cell_type": "code",
   "execution_count": 9,
   "metadata": {},
   "outputs": [
    {
     "name": "stdout",
     "output_type": "stream",
     "text": [
      "2.0\n"
     ]
    }
   ],
   "source": [
    "print(dividir(10)) #El resultado sera 2 ya que la operacion que se \n",
    "#realizo fue 10 dividido 5. el valor que ya teniamos guardado en nuestra\n",
    "#variable divisor."
   ]
  },
  {
   "cell_type": "code",
   "execution_count": 10,
   "metadata": {},
   "outputs": [
    {
     "name": "stdout",
     "output_type": "stream",
     "text": [
      "5\n"
     ]
    }
   ],
   "source": [
    "#Vamos a intentar imprimir de nuevo nuestro divisor\n",
    "print(divisor) #En este caso divisor es una variable global\n",
    "#En el llamado de la funcion como no encuntra una variable local \n",
    "#llamada divisor, busca una variable global llamada divisor. Desde dentro\n",
    "#de la funcion si se tiene acceso al espacio de nombres que la invocan.\n"
   ]
  },
  {
   "cell_type": "code",
   "execution_count": 11,
   "metadata": {},
   "outputs": [],
   "source": [
    "#Veamos el ultimo caso, vamos a agregar otra vez el parametro divisor\n",
    "#y le vamos a asignar el valor de 1.\n",
    "divisor=5 #Variable global\n",
    "def dividir(dividendo, divisor=1):\n",
    "    if (divisor==0):\n",
    "        return \"No se puede divivir por cero\"\n",
    "    else:\n",
    "        return dividendo/divisor"
   ]
  },
  {
   "cell_type": "code",
   "execution_count": 12,
   "metadata": {},
   "outputs": [
    {
     "name": "stdout",
     "output_type": "stream",
     "text": [
      "10.0\n"
     ]
    }
   ],
   "source": [
    "print(dividir(10)) #Da 10 ya que al no especificar el argumento,\n",
    "#se utiliza el valor predeterminado de 1 para el divisor. (10/1=10)"
   ]
  },
  {
   "cell_type": "code",
   "execution_count": 13,
   "metadata": {},
   "outputs": [
    {
     "name": "stdout",
     "output_type": "stream",
     "text": [
      "5\n"
     ]
    }
   ],
   "source": [
    "#Vamos a tratar de imprimir divisor y ejecutamos\n",
    "print(divisor)\n",
    "#En este caso existe divisor global y tambien divisor local.\n",
    "#El llamado a la funcion, siempre utiliza primero a la variable local."
   ]
  },
  {
   "cell_type": "markdown",
   "metadata": {},
   "source": [
    "## Funciones Recursivas"
   ]
  },
  {
   "cell_type": "code",
   "execution_count": 1,
   "metadata": {},
   "outputs": [],
   "source": [
    "#Es una funcion que hace referencia a si misma.\n",
    "#Recordemos... Factorial: se define como el numero de producto\n",
    "#de todos los numeros enteros positivos. Desde 1 hasta ese numero.\n",
    "#Ej: 5*4*3*2*1= 120\n",
    "#La funcion factorial que vamos a estar utilizando, toma como argumento\n",
    "#<numero>, que es el numero del cual se desea calcular factorial. La\n",
    "#verificación empieza si el numero es mayor que 1, si es así, se pasa\n",
    "#a crear la variable <numero> que va a ser justamente igual a <numero>\n",
    "#x la funcion factorial que va tomar como argumento numero -1.\n",
    "#Si, aca se llama la funcion factorial dentro de la misma funcion\n",
    "#factorial y al final nos va a retornar la variable numero.\n",
    "\n",
    "def factorial(numero):\n",
    "    if(numero>1):\n",
    "        numero=numero*factorial(numero-1)\n",
    "    return numero"
   ]
  },
  {
   "cell_type": "code",
   "execution_count": 2,
   "metadata": {},
   "outputs": [
    {
     "data": {
      "text/plain": [
       "120"
      ]
     },
     "execution_count": 2,
     "metadata": {},
     "output_type": "execute_result"
    }
   ],
   "source": [
    "#Acá se pone en juego la recursividad: cuando dentro de la funcion\n",
    "#factorial, se llama a sí misma, por debajo del if, pasando el argumento\n",
    "#de -1 y se multiplica el resultado obtenido por el numero original.\n",
    "\n",
    "factorial(5)"
   ]
  },
  {
   "cell_type": "code",
   "execution_count": null,
   "metadata": {},
   "outputs": [],
   "source": [
    "#En python la funcion help() se utiliza para obtener informacion \n",
    "#detallada sobre cualquier tipo de objeto, incluyendo funciones. La\n",
    "#funcion help nos proporciona una descripcion general de cómo se \n",
    "#se utiliza el objeto y cuáles son sus parámetros, entre otras cosas."
   ]
  },
  {
   "cell_type": "code",
   "execution_count": 1,
   "metadata": {},
   "outputs": [
    {
     "name": "stdout",
     "output_type": "stream",
     "text": [
      "Help on built-in function print in module builtins:\n",
      "\n",
      "print(*args, sep=' ', end='\\n', file=None, flush=False)\n",
      "    Prints the values to a stream, or to sys.stdout by default.\n",
      "    \n",
      "    sep\n",
      "      string inserted between values, default a space.\n",
      "    end\n",
      "      string appended after the last value, default a newline.\n",
      "    file\n",
      "      a file-like object (stream); defaults to the current sys.stdout.\n",
      "    flush\n",
      "      whether to forcibly flush the stream.\n",
      "\n"
     ]
    }
   ],
   "source": [
    "help(print)"
   ]
  },
  {
   "cell_type": "code",
   "execution_count": null,
   "metadata": {},
   "outputs": [],
   "source": [
    "#Podemos usar help dentro de una funcion para proporcionar informacion\n",
    "#adicional, sobre una funcion que estamos escribiendo. Para esto se debe\n",
    "#incluir una cadena de documentacion en la definicion de la funcion,\n",
    "#utilizando las triples comillas. "
   ]
  },
  {
   "cell_type": "code",
   "execution_count": 2,
   "metadata": {},
   "outputs": [],
   "source": [
    "def factorial(numero):\n",
    "    \"\"\" Calcula el factorial de un numero\n",
    "    \"\"\"\n",
    "    if(numero>1):\n",
    "        numero=numero*factorial(numero-1)\n",
    "    return numero"
   ]
  },
  {
   "cell_type": "code",
   "execution_count": 3,
   "metadata": {},
   "outputs": [
    {
     "name": "stdout",
     "output_type": "stream",
     "text": [
      "Help on function factorial in module __main__:\n",
      "\n",
      "factorial(numero)\n",
      "    Calcula el factorial de un numero\n",
      "\n"
     ]
    }
   ],
   "source": [
    "help(factorial)"
   ]
  },
  {
   "cell_type": "code",
   "execution_count": null,
   "metadata": {},
   "outputs": [],
   "source": [
    "# En esta clase vimos, tipos de recursividad, la cual como tecnica de\n",
    "# programación nos permite, definir funciones que se van a llamar a si\n",
    "# mismas, dentro de su propio cuerpo, y en python se puede usar la\n",
    "# recursividad mediante las llamadas recursivas.\n",
    "# Las funciones recursivas tienen varias ventajas dentro del mundo de\n",
    "# la programación, como: la reutilizacion de codigos, y la legibilidad\n",
    "# del mismo.\n",
    "# Tambien vimos la imporatancia de documentar correctamente nuestro codigo\n",
    "# mediante el uso de comentarios o del uso de la funcion help."
   ]
  },
  {
   "cell_type": "markdown",
   "metadata": {},
   "source": [
    "### Pasajes de parametros por valor y referencia y Funciones Lambda"
   ]
  },
  {
   "cell_type": "code",
   "execution_count": null,
   "metadata": {},
   "outputs": [],
   "source": [
    "# En muchos lenguajes de programación existen los pasos por valor y por\n",
    "#referencia que aplican a la hora de cómo va a tratar una funcion a los\n",
    "#parámetros que se le van a pasar como entrada. Su comportamiento es\n",
    "#el siguiente:\n",
    "# Si usamos un parámetro pasado por valor, se creara una copia local\n",
    "#de la variable, lo que implica es que cualquier modificacion sobre la\n",
    "#misma no tendra efecto sobre la original.\n",
    "# Mientras que un parámetro pasado por referencia, se va a actuar \n",
    "#directamente sobre la variable pasada, por lo que las modificaciones\n",
    "#van a afectar a la variable original.\n",
    "# En python el comportamiento estará definido por el tipo de variable\n",
    "#con la que estemos tratando.\n"
   ]
  },
  {
   "cell_type": "code",
   "execution_count": 4,
   "metadata": {},
   "outputs": [],
   "source": [
    "#Ej de paso por valor:\n",
    "\n",
    "x=10\n",
    "def funcion(entrada): #La variable entrada vale 0 ya que python pasa a los entreros por valor\n",
    "    entrada=0"
   ]
  },
  {
   "cell_type": "code",
   "execution_count": 5,
   "metadata": {},
   "outputs": [],
   "source": [
    "funcion(x) #dentro de la funcion se va a crear una copia local de x.\n",
    "#Por lo que la variable original, no es modificada."
   ]
  },
  {
   "cell_type": "code",
   "execution_count": 6,
   "metadata": {},
   "outputs": [
    {
     "name": "stdout",
     "output_type": "stream",
     "text": [
      "10\n"
     ]
    }
   ],
   "source": [
    "print(x) #Obtendremos el mismo valor de x que es 10."
   ]
  },
  {
   "cell_type": "code",
   "execution_count": 7,
   "metadata": {},
   "outputs": [
    {
     "name": "stdout",
     "output_type": "stream",
     "text": [
      "[10, 20, 30, 40]\n"
     ]
    }
   ],
   "source": [
    "#En el caso de una lista, python lo tomará como si estuviera pasado \n",
    "# como valor de referencia. Lo que hace que se modifique, que la \n",
    "# variable original x, ha sido modificada. \n",
    "\n",
    "x=[10,20,30]\n",
    "def funcion(entrada):\n",
    "    entrada.append(40)\n",
    "\n",
    "funcion(x)\n",
    "print(x)"
   ]
  },
  {
   "cell_type": "code",
   "execution_count": 8,
   "metadata": {},
   "outputs": [
    {
     "name": "stdout",
     "output_type": "stream",
     "text": [
      "[10, 20, 30]\n"
     ]
    }
   ],
   "source": [
    "#El ejemplo anterior nos podria llevar a pensar que si en lugar de \n",
    "#añadir un elemento a x, hacemos x es igual a lista vacía, estariamos\n",
    "#destruyendo la lista original pero no es asi.\n",
    "\n",
    "x=[10,20,30]\n",
    "def funcion(entrada):\n",
    "    entrada=[]\n",
    "\n",
    "funcion(x)\n",
    "print(x)"
   ]
  },
  {
   "cell_type": "code",
   "execution_count": null,
   "metadata": {},
   "outputs": [],
   "source": [
    "#Algo que nos ayuda a entender que pasa por debajo de python es haciendo\n",
    "#el uso de id. Esta funcion nos devuelve un identificador unico para\n",
    "#cada objeto."
   ]
  },
  {
   "cell_type": "code",
   "execution_count": 9,
   "metadata": {},
   "outputs": [
    {
     "name": "stdout",
     "output_type": "stream",
     "text": [
      "140711871411272\n"
     ]
    }
   ],
   "source": [
    "#Volviendo al primer ejemplo podemos ver a los objetos a los que apunta\n",
    "#x y entrada, son absolutamente distintos.\n",
    "\n",
    "x=10\n",
    "print(id(x)) #Nos devuelve el lugar de memoria donde se esta almacenando \n",
    "# x, que es en esta posicion que vemos en pantalla"
   ]
  },
  {
   "cell_type": "code",
   "execution_count": 10,
   "metadata": {},
   "outputs": [
    {
     "name": "stdout",
     "output_type": "stream",
     "text": [
      "140711871410952\n"
     ]
    }
   ],
   "source": [
    "#Al ejecutar vemos el lugar de la memoria donde se ve a almacenar \n",
    "# entrada. Veremos que es diferente al lugar donde se alamcena x.\n",
    "\n",
    "def funcion(entrada):\n",
    "    entrada=0\n",
    "    print(id(entrada))\n",
    "funcion(x)"
   ]
  },
  {
   "cell_type": "code",
   "execution_count": 11,
   "metadata": {},
   "outputs": [
    {
     "name": "stdout",
     "output_type": "stream",
     "text": [
      "10\n"
     ]
    }
   ],
   "source": [
    "print(x) #Y al comprobar que hay en x, vemos que el valor almacenada \n",
    "#la entrada de esa variable sigue siendo 10."
   ]
  },
  {
   "cell_type": "code",
   "execution_count": 12,
   "metadata": {},
   "outputs": [
    {
     "name": "stdout",
     "output_type": "stream",
     "text": [
      "1905026948416\n"
     ]
    }
   ],
   "source": [
    "#En este caso, si hacemos lo mismo pero cuando la variable entrada es \n",
    "# una lista podemos ver, en este caso, que el objeto con el que trabaja \n",
    "# dentro de la funcion, es el mismo que tenemos fuera.\n",
    "\n",
    "x=[10,20,30]\n",
    "print(id(x))"
   ]
  },
  {
   "cell_type": "code",
   "execution_count": 14,
   "metadata": {},
   "outputs": [
    {
     "name": "stdout",
     "output_type": "stream",
     "text": [
      "1905026948416\n"
     ]
    }
   ],
   "source": [
    "#Vamos a hacer lo mismo pero para ver el lugar de la memoria donde se \n",
    "# esta almacenando la variable entrada.\n",
    "\n",
    "def funcion(entrada):\n",
    "    entrada.append(40)\n",
    "    print(id(entrada))\n",
    "funcion(x) #Es el mismo lugar donde esta alamcenado la variable x\n",
    "#Al comporbar que hay en x, veremos que el valor almacenado en esa \n",
    "#variable, se ha modificado, luego de pasar por la funcion. "
   ]
  },
  {
   "cell_type": "code",
   "execution_count": 15,
   "metadata": {},
   "outputs": [
    {
     "name": "stdout",
     "output_type": "stream",
     "text": [
      "[10, 20, 30, 40]\n"
     ]
    }
   ],
   "source": [
    "print(x) #Vemos que la lista, se ha modificado."
   ]
  },
  {
   "cell_type": "code",
   "execution_count": 16,
   "metadata": {},
   "outputs": [],
   "source": [
    "#Entonces en python los tipos de datos simples, se pasan como valor:\n",
    "#int, float, string, bool, complex.\n",
    "#Y los otros tipos de datos, se pasan como referencia.\n",
    "# Es importante resaltar que cuando asignaciones entre variables, si\n",
    "#no utilizamos el metodo copy, lo que estamos haciendo en realidad, es\n",
    "#referenciar el mismo valor pero con 2 variables distintas. Pero ésto\n",
    "#ocurre solo ante tipo de datos complejos. Sigamos en ejemplo:\n",
    "\n",
    "x=1\n",
    "y=x\n",
    "y=5"
   ]
  },
  {
   "cell_type": "code",
   "execution_count": 17,
   "metadata": {},
   "outputs": [
    {
     "name": "stdout",
     "output_type": "stream",
     "text": [
      "1\n",
      "5\n"
     ]
    }
   ],
   "source": [
    "print(x) \n",
    "print(y) #La variable x no se ha modificado, aunque la variable y sigue\n",
    "# teniendo su valor, trasformando la asignacion del valor 2, solamente\n",
    "# a la variable y."
   ]
  },
  {
   "cell_type": "code",
   "execution_count": 18,
   "metadata": {},
   "outputs": [],
   "source": [
    "#Vamos a hacer le mismo porceso, pero asignandolo a una lista.\n",
    "\n",
    "x=[1,2]\n",
    "y=x\n",
    "y.append(3)"
   ]
  },
  {
   "cell_type": "code",
   "execution_count": 19,
   "metadata": {},
   "outputs": [
    {
     "name": "stdout",
     "output_type": "stream",
     "text": [
      "[1, 2, 3]\n",
      "[1, 2, 3]\n"
     ]
    }
   ],
   "source": [
    "print(x)\n",
    "print(y) #Seran los mismo valores para ambas listas"
   ]
  },
  {
   "cell_type": "code",
   "execution_count": 20,
   "metadata": {},
   "outputs": [
    {
     "name": "stdout",
     "output_type": "stream",
     "text": [
      "1905030161536\n",
      "1905030161536\n"
     ]
    }
   ],
   "source": [
    "#Y si quiseramos ver en este caso el espacio de memoria.\n",
    "print(id(x))\n",
    "print(id(y)) #Referencian al mismo espacio de memoria, el cual contiene\n",
    "#la lista. La id es la misma."
   ]
  },
  {
   "cell_type": "code",
   "execution_count": 21,
   "metadata": {},
   "outputs": [],
   "source": [
    "#Ahora vamos a hacerlo pero vamos a usar el metodo copy.\n",
    "\n",
    "x=[1,2]\n",
    "y=x.copy()\n",
    "y.append(3)"
   ]
  },
  {
   "cell_type": "code",
   "execution_count": 22,
   "metadata": {},
   "outputs": [
    {
     "name": "stdout",
     "output_type": "stream",
     "text": [
      "[1, 2]\n",
      "[1, 2, 3]\n"
     ]
    }
   ],
   "source": [
    "print(x)\n",
    "print(y) #Ambas variables, guardan valores diferentes. Solo en la \n",
    "# lista y se ha agregado el elemento 3."
   ]
  },
  {
   "cell_type": "code",
   "execution_count": 23,
   "metadata": {},
   "outputs": [
    {
     "name": "stdout",
     "output_type": "stream",
     "text": [
      "1905029820160\n",
      "1905030167936\n"
     ]
    }
   ],
   "source": [
    "#Y si vemos en la memoria... Veremos que referencias espacios de memoria\n",
    "#diferentes, ya que en y guardamos una copia de x, y solo ésta se \n",
    "# modificó\n",
    "print(id(x))\n",
    "print(id(y))"
   ]
  },
  {
   "cell_type": "code",
   "execution_count": null,
   "metadata": {},
   "outputs": [],
   "source": [
    "#Resumiendo la visto...\n",
    "#En python el comportamiento de paso de parametros por valor o por \n",
    "# referencia depende del tipo de dato.\n",
    "#Cuando vamos a pasar una variable de tipo de dato simple (int, str, \n",
    "# flota, boo, etc) en este caso se va a utilizar el paso por valor, \n",
    "# ésto significa que se crea una copia local de la variable dentro de\n",
    "# la funcion. Y cualquier modificación en su función sobre esta copia,\n",
    "#no va a afecatar a la variable original.\n",
    "#En cambio cuando se pasa una variable de tipo de dato complejo(lista,\n",
    "# tupla, diccionario, conjunto) se utiliza el paso por referencia. \n",
    "#Ésto significa que esta pasando una referencia a la variable original\n",
    "#y cualquier modificacion realizada dentro de la funcion, va a afectar\n",
    "#a la variable original.\n",
    "#Entonces al trabajar con datos complejos y si no queremos modificar,\n",
    "# los valores originales, podemos utlizar el metodo copy para hacer\n",
    "#una copia de los valores de la variabel original y asi evitar los\n",
    "#cambios en los objetos dentro de una funcion afecten a dicho elemento\n",
    "#original."
   ]
  },
  {
   "cell_type": "markdown",
   "metadata": {},
   "source": [
    "## Funciones Lambda"
   ]
  },
  {
   "cell_type": "code",
   "execution_count": null,
   "metadata": {},
   "outputs": [],
   "source": [
    "#Las fuciones lambda, son una forma conveniente de crear una funcion\n",
    "# en una sola linea dentro de python.\n",
    "#Tambien se las conoce como funciones anonimas, ya que no tienen nombre\n",
    "#y se asignan a una variable.\n",
    "#A diferencia de las funciones regulares, las funciones lambda pueden\n",
    "#tener cualquier cantidad de argumentos pero solo una expresion. Ademas\n",
    "#no necesita de un return ya que la expresion es el valor de retorno.\n",
    "#Vamos a verlo en el editor para entenderlo mejor:"
   ]
  },
  {
   "cell_type": "code",
   "execution_count": 24,
   "metadata": {},
   "outputs": [],
   "source": [
    "lambda_producto= lambda x, y:x*y"
   ]
  },
  {
   "cell_type": "code",
   "execution_count": 25,
   "metadata": {},
   "outputs": [
    {
     "data": {
      "text/plain": [
       "12"
      ]
     },
     "execution_count": 25,
     "metadata": {},
     "output_type": "execute_result"
    }
   ],
   "source": [
    "lambda_producto(3,4) #El resultado es el producto de 3 * 4 (una sola \n",
    "#expresion). No necesita un return. Son muy comodas para crear funciones rapidas y\n",
    "#muy practicas para nuestro dia a dia."
   ]
  }
 ],
 "metadata": {
  "kernelspec": {
   "display_name": "Python 3",
   "language": "python",
   "name": "python3"
  },
  "language_info": {
   "codemirror_mode": {
    "name": "ipython",
    "version": 3
   },
   "file_extension": ".py",
   "mimetype": "text/x-python",
   "name": "python",
   "nbconvert_exporter": "python",
   "pygments_lexer": "ipython3",
   "version": "3.11.9"
  }
 },
 "nbformat": 4,
 "nbformat_minor": 2
}
