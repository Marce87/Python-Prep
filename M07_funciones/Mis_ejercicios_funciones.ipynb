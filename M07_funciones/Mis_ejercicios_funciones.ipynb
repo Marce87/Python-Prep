{
 "cells": [
  {
   "attachments": {},
   "cell_type": "markdown",
   "metadata": {},
   "source": [
    "## Funciones"
   ]
  },
  {
   "attachments": {},
   "cell_type": "markdown",
   "metadata": {},
   "source": [
    "1) Crear una función que reciba un número como parámetro y devuelva True si es primo y False si no lo es"
   ]
  },
  {
   "cell_type": "code",
   "execution_count": 8,
   "metadata": {},
   "outputs": [],
   "source": [
    "#Se verifica mirando el resto de la division.\n",
    "#5\n",
    "def verifica_primo(nro):\n",
    "    es_primo = True #es primo hasta que se demuestre lo contario.\n",
    "    for i in range(2, nro): #recorre los divisores entre 2 y el 5. 5%2=1  5%3=2  5%4=1  /  6%2=0\n",
    "        if nro % i == 0:\n",
    "            es_primo= False\n",
    "    return es_primo"
   ]
  },
  {
   "cell_type": "code",
   "execution_count": 11,
   "metadata": {},
   "outputs": [
    {
     "data": {
      "text/plain": [
       "True"
      ]
     },
     "execution_count": 11,
     "metadata": {},
     "output_type": "execute_result"
    }
   ],
   "source": [
    "verifica_primo(5)"
   ]
  },
  {
   "attachments": {},
   "cell_type": "markdown",
   "metadata": {},
   "source": [
    "2) Utilizando la función del punto 1, realizar otra función que reciba de parámetro una lista de números y devuelva sólo aquellos que son primos en otra lista"
   ]
  },
  {
   "cell_type": "code",
   "execution_count": 16,
   "metadata": {},
   "outputs": [],
   "source": [
    "def extrae_primos_de_lista(lista): #el argumento será 'lista'\n",
    "    lista_primos= [] #Creamos una lista vacía donde se van a guardar lo numero primos.\n",
    "    for elemento in lista:\n",
    "        if verifica_primo(int(elemento)): #utilizamos la funcion declarada en el ejercicio anterior.\n",
    "            lista_primos.append(elemento)\n",
    "    return lista_primos"
   ]
  },
  {
   "cell_type": "code",
   "execution_count": 13,
   "metadata": {},
   "outputs": [],
   "source": [
    "mi_lista=[1,2,3,4,5,6,7,8,9,10,11,12,13,14,15,16,17,18,19,20]"
   ]
  },
  {
   "cell_type": "code",
   "execution_count": 17,
   "metadata": {},
   "outputs": [
    {
     "data": {
      "text/plain": [
       "[1, 2, 3, 5, 7, 11, 13, 17, 19]"
      ]
     },
     "execution_count": 17,
     "metadata": {},
     "output_type": "execute_result"
    }
   ],
   "source": [
    "extrae_primos_de_lista(mi_lista)"
   ]
  },
  {
   "attachments": {},
   "cell_type": "markdown",
   "metadata": {},
   "source": [
    "3) Crear una función que al recibir una lista de números, devuelva el que más se repite y cuántas veces lo hace. Si hay más de un \"más repetido\", que devuelva cualquiera"
   ]
  },
  {
   "cell_type": "code",
   "execution_count": 18,
   "metadata": {},
   "outputs": [],
   "source": [
    "def valor_modal(lista):\n",
    "\n",
    "    lista_unicos=[] #lista para almacenar valores unicos\n",
    "    lista_repeticiones=[] #lista para almacenar valor que se repiten\n",
    "\n",
    "    if len(lista) == 0: #Si la longitud es cero, devuelve none.\n",
    "        return None\n",
    "    \n",
    "    for elemento in lista: #bucle for por cada elemento de la lista\n",
    "        \n",
    "        if elemento in lista_unicos: #si el elemento esta en la lista unica\n",
    "            i = lista_unicos.index(elemento)\n",
    "            lista_repeticiones[i] += 1 #voy agregando un 1 al conteo de la lista de repeticiones \n",
    "        \n",
    "        else:\n",
    "            lista_unicos.append(elemento) #Si no esta, lo va agregando a la lista de unicos.\n",
    "            lista_repeticiones.append(1) #Y si el valor estaba, va a ir sumando 1 en ese indice\n",
    "#establecemos la moda y el numero maximo de repeticiones\n",
    "    moda= lista_unicos[0]\n",
    "    maximo= lista_repeticiones[0]\n",
    "\n",
    "    for i, elemento in enumerate(lista_unicos): #Enumerate: extrae el elemento y las veces que se repite.\n",
    "        #Si el numero de repeticiones del elemento actual es mayor que el maximo, se va a actualizar la moda y el maximo.\n",
    "        if lista_repeticiones[i] > maximo:\n",
    "            moda= lista_unicos[i]\n",
    "            maximo= lista_repeticiones[i]\n",
    "\n",
    "    return moda, maximo #devuelve una tupla que contiene la moda y el numero maximo de repetciones."
   ]
  },
  {
   "cell_type": "code",
   "execution_count": 21,
   "metadata": {},
   "outputs": [],
   "source": [
    "mi_lista=[1,1,2,2,2,3,3,4,4,4,4]"
   ]
  },
  {
   "cell_type": "code",
   "execution_count": 22,
   "metadata": {},
   "outputs": [
    {
     "data": {
      "text/plain": [
       "(4, 4)"
      ]
     },
     "execution_count": 22,
     "metadata": {},
     "output_type": "execute_result"
    }
   ],
   "source": [
    "valor_modal(mi_lista)"
   ]
  },
  {
   "attachments": {},
   "cell_type": "markdown",
   "metadata": {},
   "source": [
    "4) Crear una función que convierta entre grados Celsius, Farenheit y Kelvin<br>\n",
    "Fórmula 1\t: (°C × 9/5) + 32 = °F<br>\n",
    "Fórmula 2\t: °C + 273.15 = °K<br>\n",
    "Debe recibir 3 parámetros: el valor, la medida de orígen y la medida de destino\n"
   ]
  },
  {
   "cell_type": "code",
   "execution_count": 10,
   "metadata": {},
   "outputs": [],
   "source": [
    "def conversion_grados(valor, origen, destino): #valor= numero, origen y destino= tipo de medida.\n",
    "    if(origen == 'celsius'): #funcion usando celsius\n",
    "        if(destino == 'celsius'):\n",
    "            valor_destino= valor\n",
    "        elif (destino == 'farenheit'):\n",
    "            valor_destino= (valor * 9 / 5) + 32 #con esta formula paso de celsius a farenheit\n",
    "        elif (destino == 'kelvin'):\n",
    "            valor_destino= valor + 273.15 #con esta formula paso de celsius a kelvin\n",
    "        else:\n",
    "            print('Parámetro de Destino incorrecto')\n",
    "    elif (origen == 'farenheit'): #funcion usando farenheit\n",
    "        if (destino == 'celsius'):\n",
    "            valor_destino = (valor - 32) * 5 / 9 #formula invertida: paso de farenheit a celsius.\n",
    "        elif (destino == 'farenheit'):\n",
    "            valor_destino = valor\n",
    "        elif (destino == 'kelvin'):\n",
    "            valor_destino= ((valor - 32) * 5 / 9) + 273.15 #lo que se hace es pasar de farenheit a celsius y de celsius le sumo los 273 para pasarlos a kelvin.\n",
    "        else:\n",
    "            print('Parámetro de Destino incorrecto')\n",
    "    elif (origen == 'kelvin'): #funcion usando kelvin\n",
    "        if (destino == 'celsius'):\n",
    "            valor_destino= valor - 273.15\n",
    "        elif (destino == 'farenheit'):\n",
    "            valor_destino= ((valor - 273.15) * 9 / 5) + 32  #Paso de kelvin a farenheit\n",
    "        elif (destino == 'kelvin'):\n",
    "            valor_destino= valor\n",
    "        else:\n",
    "            print('Parámetro de Destino incorrecto')\n",
    "    else:\n",
    "        print('Parámetro de Origen incorrecto')\n",
    "    \n",
    "    return valor_destino"
   ]
  },
  {
   "cell_type": "code",
   "execution_count": 2,
   "metadata": {},
   "outputs": [
    {
     "data": {
      "text/plain": [
       "291.15"
      ]
     },
     "execution_count": 2,
     "metadata": {},
     "output_type": "execute_result"
    }
   ],
   "source": [
    "conversion_grados(18, 'celsius', 'kelvin')"
   ]
  },
  {
   "cell_type": "code",
   "execution_count": 12,
   "metadata": {},
   "outputs": [
    {
     "data": {
      "text/plain": [
       "-248.14999999999998"
      ]
     },
     "execution_count": 12,
     "metadata": {},
     "output_type": "execute_result"
    }
   ],
   "source": [
    "conversion_grados(25, 'kelvin','celsius')"
   ]
  },
  {
   "attachments": {},
   "cell_type": "markdown",
   "metadata": {},
   "source": [
    "5) Iterando una lista con los tres valores posibles de temperatura que recibe la función del punto 4, hacer un print para cada combinación de los mismos:"
   ]
  },
  {
   "cell_type": "code",
   "execution_count": 15,
   "metadata": {},
   "outputs": [
    {
     "name": "stdout",
     "output_type": "stream",
     "text": [
      "1 grado celsius a celsius : 1\n",
      "1 grado celsius a kelvin : 274.15\n",
      "1 grado celsius a farenheit : 33.8\n",
      "1 grado kelvin a celsius : -272.15\n",
      "1 grado kelvin a kelvin : 1\n",
      "1 grado kelvin a farenheit : -457.87\n",
      "1 grado farenheit a celsius : -17.22222222222222\n",
      "1 grado farenheit a kelvin : 255.92777777777775\n",
      "1 grado farenheit a farenheit : 1\n"
     ]
    }
   ],
   "source": [
    "metricas= ['celsius','kelvin','farenheit']\n",
    "for i in range(0,3): #indice cero es celsius, el 1 es kelvin, y el 2 es farenheit. Se toman los 3 parametros.\n",
    "    for j in range(0,3): #recoje las combinaciones entre ellos\n",
    "        print('1 grado', metricas [i], 'a', metricas[j],':', conversion_grados(1, metricas[i], metricas[j]))\n",
    "    "
   ]
  },
  {
   "attachments": {},
   "cell_type": "markdown",
   "metadata": {},
   "source": [
    "6) Armar una función que devuelva el factorial de un número. Tener en cuenta que el usuario puede equivocarse y enviar de parámetro un número no entero o negativo"
   ]
  },
  {
   "cell_type": "code",
   "execution_count": null,
   "metadata": {},
   "outputs": [],
   "source": [
    "5!= 5*4*3*2*1\n",
    "5!=5*4!\n",
    "4!=4*3!\n",
    "3!=3*2!\n",
    "2!=2*1"
   ]
  },
  {
   "cell_type": "code",
   "execution_count": null,
   "metadata": {},
   "outputs": [],
   "source": [
    "#Aca veremos una funcion que se llama recursividad."
   ]
  },
  {
   "cell_type": "code",
   "execution_count": 17,
   "metadata": {},
   "outputs": [],
   "source": [
    "def factorial(numero): #Factorial: funcion que recibe un argumento entero y positivo\n",
    "    if(type(numero) != int):\n",
    "        return 'El numero no es un entero'\n",
    "    if(numero < 0): #Si el numero es menor a cero.\n",
    "        return 'El numero debe ser positivo'\n",
    "    if(numero > 1): #5= 5*factorial(5-1)= 5*4\n",
    "        numero = numero * factorial(numero - 1) \n",
    "    return numero"
   ]
  },
  {
   "cell_type": "code",
   "execution_count": 24,
   "metadata": {},
   "outputs": [
    {
     "data": {
      "text/plain": [
       "120"
      ]
     },
     "execution_count": 24,
     "metadata": {},
     "output_type": "execute_result"
    }
   ],
   "source": [
    "factorial(5)"
   ]
  }
 ],
 "metadata": {
  "interpreter": {
   "hash": "c85384e4cb51c8b72350f3a8712cc8351fdc3955e32a27f9b60c6242ab125f01"
  },
  "kernelspec": {
   "display_name": "Python 3 (ipykernel)",
   "language": "python",
   "name": "python3"
  },
  "language_info": {
   "codemirror_mode": {
    "name": "ipython",
    "version": 3
   },
   "file_extension": ".py",
   "mimetype": "text/x-python",
   "name": "python",
   "nbconvert_exporter": "python",
   "pygments_lexer": "ipython3",
   "version": "3.11.9"
  }
 },
 "nbformat": 4,
 "nbformat_minor": 4
}
