{
 "cells": [
  {
   "attachments": {},
   "cell_type": "markdown",
   "metadata": {},
   "source": [
    "## Flujos de Control"
   ]
  },
  {
   "attachments": {},
   "cell_type": "markdown",
   "metadata": {},
   "source": [
    "1) Crear una variable que contenga un elemento del conjunto de números enteros y luego imprimir por pantalla si es mayor o menor a cero"
   ]
  },
  {
   "cell_type": "code",
   "execution_count": 3,
   "metadata": {},
   "outputs": [
    {
     "name": "stdout",
     "output_type": "stream",
     "text": [
      "La varaiable 10 es mayor a cero\n"
     ]
    }
   ],
   "source": [
    "n= 10\n",
    "if n < 0:\n",
    "    print(\"La variable\", n, \"es menor a cero\")\n",
    "elif n > 0:\n",
    "    print(\"La varaiable\", n, \"es mayor a cero\")\n",
    "else:\n",
    "    print(\"La variable es igual a cero\")"
   ]
  },
  {
   "attachments": {},
   "cell_type": "markdown",
   "metadata": {},
   "source": [
    "2) Crear dos variables y un condicional que informe si son del mismo tipo de dato"
   ]
  },
  {
   "cell_type": "code",
   "execution_count": 7,
   "metadata": {},
   "outputs": [
    {
     "name": "stdout",
     "output_type": "stream",
     "text": [
      "Las variables son de diferente tipo de dato\n",
      "La variable palabra es <class 'str'>\n",
      "La variable numero es <class 'int'>\n"
     ]
    }
   ],
   "source": [
    "palabra= \"Marce\"\n",
    "numero= 6\n",
    "if palabra == numero:\n",
    "    print(\"Las variables son del mismo tipo de dato\")\n",
    "else:\n",
    "    palabra != numero\n",
    "    print(\"Las variables son de diferente tipo de dato\")\n",
    "    print(\"La variable palabra es\", type(palabra))\n",
    "    print(\"La variable numero es\", type(numero))"
   ]
  },
  {
   "attachments": {},
   "cell_type": "markdown",
   "metadata": {},
   "source": [
    "3) Para los valores enteros del 1 al 20, imprimir por pantalla si es par o impar"
   ]
  },
  {
   "cell_type": "code",
   "execution_count": 12,
   "metadata": {},
   "outputs": [
    {
     "name": "stdout",
     "output_type": "stream",
     "text": [
      "El numero 0 es par\n",
      "El numero 1 es impar\n",
      "El numero 2 es par\n",
      "El numero 3 es impar\n",
      "El numero 4 es par\n",
      "El numero 5 es impar\n",
      "El numero 6 es par\n",
      "El numero 7 es impar\n",
      "El numero 8 es par\n",
      "El numero 9 es impar\n",
      "El numero 10 es par\n",
      "El numero 11 es impar\n",
      "El numero 12 es par\n",
      "El numero 13 es impar\n",
      "El numero 14 es par\n",
      "El numero 15 es impar\n",
      "El numero 16 es par\n",
      "El numero 17 es impar\n",
      "El numero 18 es par\n",
      "El numero 19 es impar\n",
      "El numero 20 es par\n"
     ]
    }
   ],
   "source": [
    "min= 0\n",
    "max= 21\n",
    "for j in range (0, max):\n",
    "    if j % 2 == 0: \n",
    "        print(\"El numero\", j, \"es par\")\n",
    "    else:\n",
    "        print(\"El numero\", j, \"es impar\")"
   ]
  },
  {
   "attachments": {},
   "cell_type": "markdown",
   "metadata": {},
   "source": [
    "4) En un ciclo for mostrar para los valores entre 0 y 5 el resultado de elevarlo a la potencia igual a 3"
   ]
  },
  {
   "cell_type": "code",
   "execution_count": 16,
   "metadata": {},
   "outputs": [
    {
     "name": "stdout",
     "output_type": "stream",
     "text": [
      "El valor de 0 elevado a la 3ra potencia es:  0\n",
      "El valor de 1 elevado a la 3ra potencia es:  1\n",
      "El valor de 2 elevado a la 3ra potencia es:  8\n",
      "El valor de 3 elevado a la 3ra potencia es:  27\n",
      "El valor de 4 elevado a la 3ra potencia es:  64\n",
      "El valor de 5 elevado a la 3ra potencia es:  125\n"
     ]
    }
   ],
   "source": [
    "for n in range(0, 6):\n",
    "    print(\"El valor de\", n, \"elevado a la 3ra potencia es: \", (n**3))"
   ]
  },
  {
   "attachments": {},
   "cell_type": "markdown",
   "metadata": {},
   "source": [
    "5) Crear una variable que contenga un número entero y realizar un ciclo for la misma cantidad de ciclos"
   ]
  },
  {
   "cell_type": "code",
   "execution_count": 17,
   "metadata": {},
   "outputs": [
    {
     "name": "stdout",
     "output_type": "stream",
     "text": [
      "0\n",
      "1\n",
      "2\n",
      "3\n",
      "4\n"
     ]
    }
   ],
   "source": [
    "m= 0\n",
    "for a in range(0, 5):\n",
    "    print(a)\n"
   ]
  },
  {
   "attachments": {},
   "cell_type": "markdown",
   "metadata": {},
   "source": [
    "6) Utilizar un ciclo while para realizar el factorial de un número guardado en una variable, sólo si la variable contiene un número entero mayor a 0"
   ]
  },
  {
   "cell_type": "code",
   "execution_count": 22,
   "metadata": {},
   "outputs": [
    {
     "name": "stdout",
     "output_type": "stream",
     "text": [
      "El factorial es 720\n"
     ]
    }
   ],
   "source": [
    "i = 6\n",
    "if(type(i) == int):\n",
    "    if(i>0):\n",
    "        factorial=i\n",
    "        while(i>2):\n",
    "            i = i - 1\n",
    "            factorial= factorial * i\n",
    "        print(\"El factorial es\", factorial)\n",
    "    else:\n",
    "        print(\"La variable no es mayor a 0\")\n",
    "else:\n",
    "    print(\"La variable no es un numero entero\")"
   ]
  },
  {
   "attachments": {},
   "cell_type": "markdown",
   "metadata": {},
   "source": [
    "7) Crear un ciclo for dentro de un ciclo while"
   ]
  },
  {
   "cell_type": "code",
   "execution_count": 25,
   "metadata": {},
   "outputs": [
    {
     "name": "stdout",
     "output_type": "stream",
     "text": [
      "Ciclo while numero 1\n",
      "Ciclo for numero 1\n",
      "Ciclo while numero 1\n",
      "Ciclo for numero 2\n",
      "Ciclo while numero 1\n",
      "Ciclo for numero 3\n",
      "Ciclo while numero 2\n",
      "Ciclo for numero 2\n",
      "Ciclo while numero 2\n",
      "Ciclo for numero 3\n",
      "Ciclo while numero 3\n",
      "Ciclo for numero 3\n"
     ]
    }
   ],
   "source": [
    "m = 0\n",
    "while (m<3): #mientras m sea menor a 3\n",
    "    m= m + 1\n",
    "    for a in range (m, 4): #For (para) un rango de 0 a 4. El 4 no entra porque es mayor a 3\n",
    "        print(\"Ciclo while numero\", m)\n",
    "        print(\"Ciclo for numero\", a)"
   ]
  },
  {
   "attachments": {},
   "cell_type": "markdown",
   "metadata": {},
   "source": [
    "8) Crear un ciclo while dentro de un ciclo for"
   ]
  },
  {
   "cell_type": "code",
   "execution_count": 33,
   "metadata": {},
   "outputs": [
    {
     "name": "stdout",
     "output_type": "stream",
     "text": [
      "Ciclo while numero 4\n",
      "Ciclo for numero 1\n",
      "Ciclo while numero 4\n",
      "Ciclo for numero 2\n",
      "Ciclo while numero 4\n",
      "Ciclo for numero 3\n",
      "Ciclo while numero 4\n",
      "Ciclo for numero 4\n"
     ]
    }
   ],
   "source": [
    "n= 5\n",
    "for i in range(1, 5): #Es lo mismo que poner (1, n)\n",
    "    while (n>=5):\n",
    "        n -= 1\n",
    "    print(\"Ciclo while numero\", n) #Imprime hasta 4 porque puse n - 1, es decir, 5-1= 4\n",
    "    print(\"Ciclo for numero\", i) #Imprime 1 porque escribí el rango de 1 a n, entonces la variable n no está clara."
   ]
  },
  {
   "attachments": {},
   "cell_type": "markdown",
   "metadata": {},
   "source": [
    "9) Imprimir los números primos existentes entre 0 y 30"
   ]
  },
  {
   "cell_type": "code",
   "execution_count": 39,
   "metadata": {},
   "outputs": [
    {
     "name": "stdout",
     "output_type": "stream",
     "text": [
      "0\n",
      "1\n",
      "2\n",
      "3\n",
      "5\n",
      "7\n",
      "11\n",
      "13\n",
      "17\n",
      "19\n",
      "23\n",
      "29\n"
     ]
    }
   ],
   "source": [
    "tope_rango= 30\n",
    "n = 0\n",
    "primo= True\n",
    "while n < tope_rango:\n",
    "    for a in range(2, n):\n",
    "        if n % a == 0:\n",
    "            primo= False\n",
    "    if (primo):\n",
    "        print(n)\n",
    "    else:\n",
    "        primo= True\n",
    "    n += 1"
   ]
  },
  {
   "attachments": {},
   "cell_type": "markdown",
   "metadata": {},
   "source": [
    "10) ¿Se puede mejorar el proceso del punto 9? Utilizar las sentencias break y/ó continue para tal fin"
   ]
  },
  {
   "cell_type": "code",
   "execution_count": 41,
   "metadata": {},
   "outputs": [
    {
     "name": "stdout",
     "output_type": "stream",
     "text": [
      "0\n",
      "1\n",
      "2\n",
      "3\n",
      "5\n",
      "7\n",
      "11\n",
      "13\n",
      "17\n",
      "19\n",
      "23\n",
      "29\n"
     ]
    }
   ],
   "source": [
    "tope_rango= 30\n",
    "n = 0\n",
    "primo= True\n",
    "while n < tope_rango:\n",
    "    for a in range(2, n):\n",
    "        if n % a == 0:\n",
    "            primo= False\n",
    "            break\n",
    "    if primo:\n",
    "        print(n)\n",
    "    else:\n",
    "        primo= True\n",
    "    n += 1"
   ]
  },
  {
   "attachments": {},
   "cell_type": "markdown",
   "metadata": {},
   "source": [
    "11) En los puntos 9 y 10, se diseño un código que encuentra números primos y además se lo optimizó. ¿Es posible saber en qué medida se optimizó?"
   ]
  },
  {
   "cell_type": "code",
   "execution_count": 50,
   "metadata": {},
   "outputs": [
    {
     "name": "stdout",
     "output_type": "stream",
     "text": [
      "0\n",
      "1\n",
      "2\n",
      "3\n",
      "5\n",
      "7\n",
      "11\n",
      "13\n",
      "17\n",
      "19\n",
      "23\n",
      "29\n",
      "La cantidad de ciclos es:  378\n"
     ]
    }
   ],
   "source": [
    "ciclos_sin_break= 0\n",
    "m= 0\n",
    "primo= True\n",
    "while (m < tope_rango):\n",
    "    for div in range(2, m):\n",
    "        ciclos_sin_break += 1\n",
    "        if m % div == 0:\n",
    "            primo= False\n",
    "    if (primo):\n",
    "            print(m)\n",
    "    else:\n",
    "        primo= True\n",
    "    m += 1\n",
    "print(\"La cantidad de ciclos es: \", str(ciclos_sin_break)) #Se puedo poner un + o una coma: es lo mismo."
   ]
  },
  {
   "cell_type": "code",
   "execution_count": 51,
   "metadata": {},
   "outputs": [
    {
     "name": "stdout",
     "output_type": "stream",
     "text": [
      "0\n",
      "1\n",
      "2\n",
      "3\n",
      "5\n",
      "7\n",
      "11\n",
      "13\n",
      "17\n",
      "19\n",
      "23\n",
      "29\n",
      "La cantidad de ciclos es:  134\n",
      "Se optimizó un  0.3544973544973545 % de ciclos aplicando break.\n"
     ]
    }
   ],
   "source": [
    "ciclos_con_break= 0\n",
    "m= 0\n",
    "primo= True\n",
    "while (m < tope_rango):\n",
    "    for div in range(2, m):\n",
    "        ciclos_con_break += 1\n",
    "        if m % div == 0:\n",
    "            primo= False\n",
    "            break\n",
    "    if (primo):\n",
    "            print(m)\n",
    "    else:\n",
    "        primo= True\n",
    "    m += 1\n",
    "print(\"La cantidad de ciclos es: \", str(ciclos_con_break)) #Se puedo poner un + o una coma: es lo mismo.\n",
    "print(\"Se optimizó un \", str(ciclos_con_break/ciclos_sin_break), \"% de ciclos aplicando break.\")"
   ]
  },
  {
   "attachments": {},
   "cell_type": "markdown",
   "metadata": {},
   "source": [
    "12) Aplicando continue, armar un ciclo while que solo imprima los valores divisibles por 12, dentro del rango de números de 100 a 300"
   ]
  },
  {
   "cell_type": "code",
   "execution_count": 57,
   "metadata": {},
   "outputs": [
    {
     "name": "stdout",
     "output_type": "stream",
     "text": [
      "108 es divisibe por 12.\n",
      "120 es divisibe por 12.\n",
      "132 es divisibe por 12.\n",
      "144 es divisibe por 12.\n",
      "156 es divisibe por 12.\n",
      "168 es divisibe por 12.\n",
      "180 es divisibe por 12.\n",
      "192 es divisibe por 12.\n",
      "204 es divisibe por 12.\n",
      "216 es divisibe por 12.\n",
      "228 es divisibe por 12.\n",
      "240 es divisibe por 12.\n",
      "252 es divisibe por 12.\n",
      "264 es divisibe por 12.\n",
      "276 es divisibe por 12.\n",
      "288 es divisibe por 12.\n",
      "300 es divisibe por 12.\n"
     ]
    }
   ],
   "source": [
    "n= 99\n",
    "while (n <= 300):\n",
    "    n = n+1 #99 + 1= 100. De esta manera el loop cuenta desde el 100.\n",
    "    if (n % 12 != 0): \n",
    "        continue\n",
    "    print(n, \"es divisibe por 12.\")"
   ]
  },
  {
   "attachments": {},
   "cell_type": "markdown",
   "metadata": {},
   "source": [
    "13) Utilizar la función **input()** que permite hacer ingresos por teclado, para encontrar números primos y dar la opción al usario de buscar el siguiente"
   ]
  },
  {
   "attachments": {},
   "cell_type": "markdown",
   "metadata": {},
   "source": [
    "14) Crear un ciclo while que encuentre dentro del rango de 100 a 300 el primer número divisible por 3 y además múltiplo de 6"
   ]
  },
  {
   "cell_type": "code",
   "execution_count": 61,
   "metadata": {},
   "outputs": [
    {
     "name": "stdout",
     "output_type": "stream",
     "text": [
      "el numero es 102\n"
     ]
    }
   ],
   "source": [
    "n= 100\n",
    "while (n <= 300):\n",
    "    if (n % 6 == 0): \n",
    "        print(\"el numero es\", n)\n",
    "        break\n",
    "    n += 1"
   ]
  }
 ],
 "metadata": {
  "interpreter": {
   "hash": "c85384e4cb51c8b72350f3a8712cc8351fdc3955e32a27f9b60c6242ab125f01"
  },
  "kernelspec": {
   "display_name": "Python 3 (ipykernel)",
   "language": "python",
   "name": "python3"
  },
  "language_info": {
   "codemirror_mode": {
    "name": "ipython",
    "version": 3
   },
   "file_extension": ".py",
   "mimetype": "text/x-python",
   "name": "python",
   "nbconvert_exporter": "python",
   "pygments_lexer": "ipython3",
   "version": "3.11.9"
  }
 },
 "nbformat": 4,
 "nbformat_minor": 4
}
