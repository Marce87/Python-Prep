{
 "cells": [
  {
   "attachments": {},
   "cell_type": "markdown",
   "metadata": {},
   "source": [
    "## Flujos de Control"
   ]
  },
  {
   "attachments": {},
   "cell_type": "markdown",
   "metadata": {},
   "source": [
    "1) Crear una variable que contenga un elemento del conjunto de números enteros y luego imprimir por pantalla si es mayor o menor a cero"
   ]
  },
  {
   "cell_type": "code",
   "execution_count": 17,
   "metadata": {},
   "outputs": [
    {
     "name": "stdout",
     "output_type": "stream",
     "text": [
      "La variable a es mayor a 0\n"
     ]
    }
   ],
   "source": [
    "a=6 #incializamos la variable con un numero entero.\n",
    "if (a<0): # si a es menor a 0 de devulve un booleano: True o False. Si es True, ejecuta el código que está por debajo.\n",
    "    print(\"La variable a es menor a 0\")\n",
    "elif (a>0): #si a es mayor a 0\n",
    "    print(\"La variable a es mayor a 0\")\n",
    "else: \n",
    "    print(a, \"la variable es igual a 0\")"
   ]
  },
  {
   "attachments": {},
   "cell_type": "markdown",
   "metadata": {},
   "source": [
    "2) Crear dos variables y un condicional que informe si son del mismo tipo de dato"
   ]
  },
  {
   "cell_type": "code",
   "execution_count": 18,
   "metadata": {},
   "outputs": [
    {
     "name": "stdout",
     "output_type": "stream",
     "text": [
      "Las variables son diferentes tipo de dato\n"
     ]
    }
   ],
   "source": [
    "m=6\n",
    "n=\"Henry\"\n",
    "if (type(m)==type(n)): #Si m y n son el mismo tipo de dato\n",
    "    print(\"Las variables son del mismo tipo de dato\") #el resultado arrojará que son iguales\n",
    "else: #Si no son iguales, arroja \n",
    "    print(\"Las variables son diferentes tipo de dato\") #Si no son iguales, arroja éste resultado"
   ]
  },
  {
   "cell_type": "code",
   "execution_count": 16,
   "metadata": {},
   "outputs": [
    {
     "name": "stdout",
     "output_type": "stream",
     "text": [
      "Las variables 3.2 y 2 son del mismo tipo de dato\n"
     ]
    }
   ],
   "source": [
    "# El formato utilizado a continuación en el print es conocido como f-string o formatted string literals en Python. Las f-strings permiten incrustar expresiones dentro de una cadena de texto mediante llaves {} y el prefijo \"f\" antes de la cadena. Dentro de las llaves, puedes colocar variables, expresiones o incluso invocar funciones para su evaluación e inclusión en la cadena resultante.\n",
    "a = 3.2\n",
    "b = 2\n",
    "print(f'Las variables {a} y {b} son del mismo tipo de dato')"
   ]
  },
  {
   "attachments": {},
   "cell_type": "markdown",
   "metadata": {},
   "source": [
    "3) Para los valores enteros del 1 al 20, imprimir por pantalla si es par o impar"
   ]
  },
  {
   "cell_type": "code",
   "execution_count": null,
   "metadata": {},
   "outputs": [],
   "source": [
    "4%2= 0 #De la division de numeros pares el resto sera 0 y de los impares sera 1. Esto se llama Módulo.\n",
    "        #% es el simbolo de resto de una division.\n",
    "8%2= 0\n",
    "6%2= 0\n",
    "7%2= 1\n",
    "5%2= 1\n",
    "9%2= 1"
   ]
  },
  {
   "cell_type": "code",
   "execution_count": 4,
   "metadata": {},
   "outputs": [
    {
     "name": "stdout",
     "output_type": "stream",
     "text": [
      "el numero 1 es impar\n",
      "el numero 2 es par\n",
      "el numero 3 es impar\n",
      "el numero 4 es par\n",
      "el numero 5 es impar\n",
      "el numero 6 es par\n",
      "el numero 7 es impar\n",
      "el numero 8 es par\n",
      "el numero 9 es impar\n",
      "el numero 10 es par\n",
      "el numero 11 es impar\n",
      "el numero 12 es par\n",
      "el numero 13 es impar\n",
      "el numero 14 es par\n",
      "el numero 15 es impar\n",
      "el numero 16 es par\n",
      "el numero 17 es impar\n",
      "el numero 18 es par\n",
      "el numero 19 es impar\n",
      "el numero 20 es par\n"
     ]
    }
   ],
   "source": [
    "#Resuelto con for: porque ya sabes donde comienza y donde termina el ciclo. \n",
    "for x in range(1,21): #Rango de x.\n",
    "    if x % 2 == 0: #Si (if) x módulo 2, el resto es igual a cero.\n",
    "        print(\"el numero\", str(x), \"es par\") #Se imprime, si la condicion es True.\n",
    "    else: #Si es False, se imprime lo de abajo\n",
    "        print(\"el numero\", str(x), \"es impar\")"
   ]
  },
  {
   "cell_type": "code",
   "execution_count": 33,
   "metadata": {},
   "outputs": [
    {
     "name": "stdout",
     "output_type": "stream",
     "text": [
      "numeros pares: 2\n",
      "numeros pares: 4\n",
      "numeros pares: 6\n",
      "numeros pares: 8\n",
      "numeros pares: 10\n",
      "numeros pares: 12\n",
      "numeros pares: 14\n",
      "numeros pares: 16\n",
      "numeros pares: 18\n",
      "numeros pares: 20\n"
     ]
    }
   ],
   "source": [
    "for numero in range(1, 21):\n",
    "    if numero % 2 == 0:\n",
    "        print(\"numeros pares:\", numero)\n",
    "    else: #no es necesario poner el else, es opcional.\n",
    "        continue"
   ]
  },
  {
   "cell_type": "code",
   "execution_count": 19,
   "metadata": {},
   "outputs": [
    {
     "name": "stdout",
     "output_type": "stream",
     "text": [
      "el numero 1 es impar\n",
      "el numero 2 es par\n",
      "el numero 3 es impar\n",
      "el numero 4 es par\n",
      "el numero 5 es impar\n",
      "el numero 6 es par\n",
      "el numero 7 es impar\n",
      "el numero 8 es par\n",
      "el numero 9 es impar\n",
      "el numero 10 es par\n",
      "el numero 11 es impar\n",
      "el numero 12 es par\n",
      "el numero 13 es impar\n",
      "el numero 14 es par\n",
      "el numero 15 es impar\n",
      "el numero 16 es par\n",
      "el numero 17 es impar\n",
      "el numero 18 es par\n",
      "el numero 19 es impar\n",
      "el numero 20 es par\n"
     ]
    }
   ],
   "source": [
    "#resuelto con while.\n",
    "x=1\n",
    "while (x<=20): #mientras x sea menor o igual a 20.\n",
    "    if (x%2 == 0): #Siempre y cuando el resto de x sea igual a 0.\n",
    "        print(f\"el numero {x} es par\") #x sera par\n",
    "    else: \n",
    "        print(f\"el numero {x} es impar\") #x será impar.\n",
    "    x += 1"
   ]
  },
  {
   "attachments": {},
   "cell_type": "markdown",
   "metadata": {},
   "source": [
    "4) En un ciclo for mostrar para los valores entre 0 y 5 el resultado de elevarlo a la potencia igual a 3"
   ]
  },
  {
   "cell_type": "code",
   "execution_count": 5,
   "metadata": {},
   "outputs": [
    {
     "name": "stdout",
     "output_type": "stream",
     "text": [
      "valor: 0 elevado a la 3ra potencia 0\n",
      "valor: 1 elevado a la 3ra potencia 1\n",
      "valor: 2 elevado a la 3ra potencia 8\n",
      "valor: 3 elevado a la 3ra potencia 27\n",
      "valor: 4 elevado a la 3ra potencia 64\n",
      "valor: 5 elevado a la 3ra potencia 125\n"
     ]
    }
   ],
   "source": [
    "for a in range(0,6):\n",
    "    print(\"valor:\", str(a), \"elevado a la 3ra potencia\", str(a**3))"
   ]
  },
  {
   "attachments": {},
   "cell_type": "markdown",
   "metadata": {},
   "source": [
    "5) Crear una variable que contenga un número entero y realizar un ciclo for la misma cantidad de ciclos"
   ]
  },
  {
   "cell_type": "code",
   "execution_count": 24,
   "metadata": {},
   "outputs": [
    {
     "name": "stdout",
     "output_type": "stream",
     "text": [
      "0\n",
      "1\n",
      "2\n",
      "3\n",
      "4\n",
      "5\n"
     ]
    }
   ],
   "source": [
    "m= 0\n",
    "for i in range (0,6):\n",
    "    print(i)"
   ]
  },
  {
   "cell_type": "code",
   "execution_count": 6,
   "metadata": {},
   "outputs": [
    {
     "name": "stdout",
     "output_type": "stream",
     "text": [
      "0\n",
      "1\n",
      "2\n",
      "3\n",
      "4\n",
      "5\n"
     ]
    }
   ],
   "source": [
    "n=6\n",
    "for i in range(0,n):\n",
    "    print(i)"
   ]
  },
  {
   "attachments": {},
   "cell_type": "markdown",
   "metadata": {},
   "source": [
    "6) Utilizar un ciclo while para realizar el factorial de un número guardado en una variable, sólo si la variable contiene un número entero mayor a 0"
   ]
  },
  {
   "cell_type": "code",
   "execution_count": null,
   "metadata": {},
   "outputs": [],
   "source": [
    "5! = 5*4*3*2*1 #Esto es factorial en matemática.\n",
    "4!=4*3*2*1\n",
    "3!=3*2*1\n",
    "\n",
    "#Otra forma de factorial:\n",
    "\n",
    "5!= 5*4! #5 por el factorial de 4 \n",
    "    / 5*24= 120  \n",
    "4!= 4*3! / 4*6= 24\n",
    "3!= 3*2! / 3*2=6\n",
    "2!= 2*1! / 2*1=2\n",
    "1!= 1"
   ]
  },
  {
   "cell_type": "code",
   "execution_count": 1,
   "metadata": {},
   "outputs": [
    {
     "name": "stdout",
     "output_type": "stream",
     "text": [
      "El factorial es 120\n"
     ]
    }
   ],
   "source": [
    "#Para realizar la consigna el valor de la variable debe cumplir 2 condiciones: ser un numero entero y que sea positivo.\n",
    "n=5\n",
    "if(type(n)==int): #Si el valor es un numero entero, continuará con el siguiente desarrollo. Podemos chequearlo con un True.\n",
    "    if(n>0): #5 es mayor a cero.\n",
    "        factorial=n #Factorial es igual a n.\n",
    "        while(n>2): #Verificamos a n sea mayor a 2\n",
    "            n=n-1 #si n es mayor, el valor de n cambia y pasa a valer n-1. Es decir, n=5-1 entonces \n",
    "            factorial=factorial * n # n=5*4 # n=4*3 n=3*2 n=2*1\n",
    "        print(\"El factorial es\", factorial)\n",
    "    else:\n",
    "        (\"La variable no es mayor a 0\")\n",
    "else:\n",
    "    (\"La variable no es un entero\")"
   ]
  },
  {
   "attachments": {},
   "cell_type": "markdown",
   "metadata": {},
   "source": [
    "7) Crear un ciclo for dentro de un ciclo while"
   ]
  },
  {
   "cell_type": "code",
   "execution_count": 2,
   "metadata": {},
   "outputs": [
    {
     "name": "stdout",
     "output_type": "stream",
     "text": [
      "Ciclo while numero 1\n",
      "Ciclo for numero 1\n",
      "Ciclo while numero 1\n",
      "Ciclo for numero 2\n",
      "Ciclo while numero 1\n",
      "Ciclo for numero 3\n",
      "Ciclo while numero 1\n",
      "Ciclo for numero 4\n",
      "Ciclo while numero 2\n",
      "Ciclo for numero 2\n",
      "Ciclo while numero 2\n",
      "Ciclo for numero 3\n",
      "Ciclo while numero 2\n",
      "Ciclo for numero 4\n",
      "Ciclo while numero 3\n",
      "Ciclo for numero 3\n",
      "Ciclo while numero 3\n",
      "Ciclo for numero 4\n",
      "Ciclo while numero 4\n",
      "Ciclo for numero 4\n"
     ]
    }
   ],
   "source": [
    "n = 0\n",
    "while(n < 5): #Mientras n sea menor a 5.\n",
    "    n += 1 #es lo mismo que poner n= n + 1.\n",
    "    for i in range (n,5):\n",
    "        print(\"Ciclo while numero \" + str(n))\n",
    "        print(\"Ciclo for numero \" + str(i))"
   ]
  },
  {
   "attachments": {},
   "cell_type": "markdown",
   "metadata": {},
   "source": [
    "8) Crear un ciclo while dentro de un ciclo for"
   ]
  },
  {
   "cell_type": "code",
   "execution_count": 9,
   "metadata": {},
   "outputs": [
    {
     "name": "stdout",
     "output_type": "stream",
     "text": [
      "Ciclo while numero 4\n",
      "Ciclo for numero 1\n"
     ]
    }
   ],
   "source": [
    "n = 5\n",
    "for i in range(1, n):\n",
    "    while(n == 5): #n sea mayor o igual a 5\n",
    "        n -= 1\n",
    "        print(\"Ciclo while numero \" + str(n))\n",
    "        print(\"Ciclo for numero \" + str(i))"
   ]
  },
  {
   "attachments": {},
   "cell_type": "markdown",
   "metadata": {},
   "source": [
    "9) Imprimir los números primos existentes entre 0 y 30"
   ]
  },
  {
   "cell_type": "code",
   "execution_count": null,
   "metadata": {},
   "outputs": [],
   "source": [
    "#Numeros primos: condiciones: son los que pueden dividirse por 1 y por si mismos y como resultado debe dar un numero entero.\n",
    "\n",
    "5%5=0 #el resto es 0.\n",
    "5%1=0 #el resto es 0. El numero 5 es primo.\n",
    "4%1=4\n",
    "4%4=1 \n",
    "4%2=2 #El 4 no es numero primo porque tiene mas de 2 divisores.\n",
    "3%3=1 \n",
    "3%1=3 # El 3 es numero primo\n",
    "2%2=1\n",
    "2%1=2 #El 2 es numero primo\n",
    "1%1=1 #El 1 no es numero primo, ya que es el unico divisor.\n"
   ]
  },
  {
   "cell_type": "code",
   "execution_count": 4,
   "metadata": {},
   "outputs": [
    {
     "name": "stdout",
     "output_type": "stream",
     "text": [
      "El numero 1 es primo\n",
      "El numero 2 es primo\n",
      "El numero 3 es primo\n",
      "El numero 6 es primo\n",
      "El numero 7 es primo\n",
      "El numero 14 es primo\n",
      "El numero 15 es primo\n",
      "El numero 30 es primo\n"
     ]
    }
   ],
   "source": [
    "min= 1\n",
    "max= 30\n",
    "\n",
    "for n in range (min, max+1):\n",
    "    es_primo = True\n",
    "    for j in range(2,n):\n",
    "        if n & j== 0:\n",
    "            es_primo = False\n",
    "    if es_primo:\n",
    "        print(\"El numero\", n, \"es primo\")"
   ]
  },
  {
   "cell_type": "code",
   "execution_count": 16,
   "metadata": {},
   "outputs": [
    {
     "name": "stdout",
     "output_type": "stream",
     "text": [
      "0\n",
      "1\n",
      "2\n",
      "3\n",
      "5\n",
      "7\n",
      "11\n",
      "13\n",
      "17\n",
      "19\n",
      "23\n",
      "29\n"
     ]
    }
   ],
   "source": [
    "tope_range=30  #Podemos visulaizar paso a paso en www.memlayout.com en pagina de incognito.\n",
    "n = 0\n",
    "primo = True # Declaro como True aquellos numeros que sean primos.\n",
    "while (n < tope_range): # n menor a 30\n",
    "    for i in range (2, n): # Va a dividir cada numero, entre 0 y 29 \n",
    "        if (n % i == 0): # Con esto demuestro lo contrario: \n",
    "            primo = False # Ej: 6%2 = 0, entonces no es primo.\n",
    "    if (primo):\n",
    "        print(n)\n",
    "    else:\n",
    "        primo = True\n",
    "    n += 1"
   ]
  },
  {
   "attachments": {},
   "cell_type": "markdown",
   "metadata": {},
   "source": [
    "10) ¿Se puede mejorar el proceso del punto 9? Utilizar las sentencias break y/ó continue para tal fin"
   ]
  },
  {
   "cell_type": "code",
   "execution_count": 30,
   "metadata": {},
   "outputs": [
    {
     "name": "stdout",
     "output_type": "stream",
     "text": [
      "0\n",
      "1\n",
      "2\n",
      "3\n",
      "5\n",
      "7\n",
      "11\n",
      "13\n",
      "17\n",
      "19\n",
      "23\n",
      "29\n"
     ]
    }
   ],
   "source": [
    "n = 0 \n",
    "primo = True\n",
    "while (n < tope_range):\n",
    "    for i in range (2, n):\n",
    "        if (n % i == 0):\n",
    "            primo = False\n",
    "            break # una vez que encontro un numero que da de resto cero, lo saca del bucle\n",
    "    if (primo):\n",
    "        print(n)\n",
    "    else:\n",
    "        primo = True\n",
    "    n += 1"
   ]
  },
  {
   "attachments": {},
   "cell_type": "markdown",
   "metadata": {},
   "source": [
    "11) En los puntos 9 y 10, se diseño un código que encuentra números primos y además se lo optimizó. ¿Es posible saber en qué medida se optimizó?"
   ]
  },
  {
   "cell_type": "code",
   "execution_count": 29,
   "metadata": {},
   "outputs": [
    {
     "name": "stdout",
     "output_type": "stream",
     "text": [
      "El numero 0 es primo\n",
      "El numero 1 es primo\n",
      "El numero 2 es primo\n",
      "El numero 3 es primo\n",
      "El numero 5 es primo\n",
      "El numero 7 es primo\n",
      "El numero 11 es primo\n",
      "El numero 13 es primo\n",
      "El numero 17 es primo\n",
      "El numero 19 es primo\n",
      "El numero 23 es primo\n",
      "El numero 29 es primo\n",
      "Cantidad de ciclos: 378\n"
     ]
    }
   ],
   "source": [
    "ciclos_sin_break = 0 #Es un contador\n",
    "tope_range= 30\n",
    "n = 0\n",
    "primo = True\n",
    "while (n < tope_range):\n",
    "    for i in range (2, n):\n",
    "        ciclos_sin_break += 1\n",
    "        if (n % i == 0):\n",
    "            primo = False\n",
    "    if (primo):\n",
    "        print(\"El numero\", n, \"es primo\")\n",
    "    else:\n",
    "        primo = True\n",
    "    n += 1\n",
    "print('Cantidad de ciclos: ' + str(ciclos_sin_break)) #Imprimo la cantidad de ciclos."
   ]
  },
  {
   "cell_type": "code",
   "execution_count": 18,
   "metadata": {},
   "outputs": [
    {
     "name": "stdout",
     "output_type": "stream",
     "text": [
      "0\n",
      "1\n",
      "2\n",
      "3\n",
      "5\n",
      "7\n",
      "11\n",
      "13\n",
      "17\n",
      "19\n",
      "23\n",
      "29\n",
      "Cantidad de ciclos: 134\n",
      "Se optimizó un: 0.3333333333333333% de ciclos aplicando break\n"
     ]
    }
   ],
   "source": [
    "ciclos_con_break = 0 #Es un contador\n",
    "tope_range= 30\n",
    "n = 0\n",
    "primo = True\n",
    "while (n < tope_range):\n",
    "    for i in range (2, n):\n",
    "        ciclos_con_break += 1\n",
    "        if (n % i == 0):\n",
    "            primo = False\n",
    "            break\n",
    "    if (primo):\n",
    "        print(n)\n",
    "    else:\n",
    "        primo = True\n",
    "    n += 1\n",
    "print('Cantidad de ciclos: ' + str(ciclos_con_break)) #Imprimo la cantidad de ciclos. #Los ciclos serán muchos menos \n",
    "print('Se optimizó un: ' + str(ciclos_con_break/ciclos_sin_break) + '% de ciclos aplicando break')"
   ]
  },
  {
   "cell_type": "code",
   "execution_count": 2,
   "metadata": {},
   "outputs": [
    {
     "name": "stdout",
     "output_type": "stream",
     "text": [
      "0\n",
      "1\n",
      "2\n",
      "3\n",
      "5\n",
      "7\n",
      "11\n",
      "13\n",
      "17\n",
      "19\n",
      "23\n",
      "29\n",
      "31\n",
      "37\n",
      "41\n",
      "43\n",
      "47\n",
      "53\n",
      "59\n",
      "61\n",
      "67\n",
      "71\n",
      "73\n",
      "79\n",
      "83\n",
      "89\n",
      "97\n",
      "Cantidad de ciclos: 4753\n"
     ]
    }
   ],
   "source": [
    "tope_rango= 100\n",
    "ciclos_sin_break= 0\n",
    "n= 0\n",
    "primo= True\n",
    "while(n < tope_rango):\n",
    "    for i in range(2, n):\n",
    "        ciclos_sin_break += 1\n",
    "        if(n % i == 0):\n",
    "            primo= False\n",
    "    if(primo):\n",
    "        print(n)\n",
    "    else: \n",
    "        primo = True\n",
    "    n += 1\n",
    "print('Cantidad de ciclos: ' + str(ciclos_sin_break))    "
   ]
  },
  {
   "cell_type": "code",
   "execution_count": 3,
   "metadata": {},
   "outputs": [
    {
     "name": "stdout",
     "output_type": "stream",
     "text": [
      "0\n",
      "1\n",
      "2\n",
      "3\n",
      "5\n",
      "7\n",
      "11\n",
      "13\n",
      "17\n",
      "19\n",
      "23\n",
      "29\n",
      "31\n",
      "37\n",
      "41\n",
      "43\n",
      "47\n",
      "53\n",
      "59\n",
      "61\n",
      "67\n",
      "71\n",
      "73\n",
      "79\n",
      "83\n",
      "89\n",
      "97\n",
      "Cantidad de ciclos: 1132\n",
      "Se optimizó un: 0.2381653692404797% de ciclos aplicando break\n"
     ]
    }
   ],
   "source": [
    "ciclos_con_break = 0 #Es un contador\n",
    "tope_range= 100\n",
    "n = 0\n",
    "primo = True\n",
    "while (n < tope_range):\n",
    "    for i in range (2, n):\n",
    "        ciclos_con_break += 1\n",
    "        if (n % i == 0):\n",
    "            primo = False\n",
    "            break\n",
    "    if (primo):\n",
    "        print(n)\n",
    "    else:\n",
    "        primo = True\n",
    "    n += 1\n",
    "print('Cantidad de ciclos: ' + str(ciclos_con_break)) #Imprimo la cantidad de ciclos. #Los ciclos serán muchos menos \n",
    "print('Se optimizó un: ' + str(ciclos_con_break/ciclos_sin_break) + '% de ciclos aplicando break')"
   ]
  },
  {
   "attachments": {},
   "cell_type": "markdown",
   "metadata": {},
   "source": [
    "12) Aplicando continue, armar un ciclo while que solo imprima los valores divisibles por 12, dentro del rango de números de 100 a 300"
   ]
  },
  {
   "cell_type": "code",
   "execution_count": 5,
   "metadata": {},
   "outputs": [
    {
     "name": "stdout",
     "output_type": "stream",
     "text": [
      "108 es divisible por 12\n",
      "120 es divisible por 12\n",
      "132 es divisible por 12\n",
      "144 es divisible por 12\n",
      "156 es divisible por 12\n",
      "168 es divisible por 12\n",
      "180 es divisible por 12\n",
      "192 es divisible por 12\n",
      "204 es divisible por 12\n",
      "216 es divisible por 12\n",
      "228 es divisible por 12\n",
      "240 es divisible por 12\n",
      "252 es divisible por 12\n",
      "264 es divisible por 12\n",
      "276 es divisible por 12\n",
      "288 es divisible por 12\n",
      "300 es divisible por 12\n"
     ]
    }
   ],
   "source": [
    "n = 99 #Pongo 99 porque en linea 3, ya le pongo +1 (suma 1)\n",
    "while(n <= 300):\n",
    "    n += 1\n",
    "    if(n % 12 != 0): #Si n dividido 12 me da distinto de cero\n",
    "        continue #Si pusieramos break, se detuvo en el primer numero que dividio por 12 que es el 100 y dio de resultado distinto de 0. Entonces se detuvo.\n",
    "    print(n, 'es divisible por 12')"
   ]
  },
  {
   "attachments": {},
   "cell_type": "markdown",
   "metadata": {},
   "source": [
    "13) Utilizar la función **input()** que permite hacer ingresos por teclado, para encontrar números primos y dar la opción al usario de buscar el siguiente"
   ]
  },
  {
   "cell_type": "code",
   "execution_count": 9,
   "metadata": {},
   "outputs": [
    {
     "name": "stdout",
     "output_type": "stream",
     "text": [
      "1\n",
      "Desea encontrar el siguiente numero primo?\n",
      "2\n",
      "Desea encontrar el siguiente numero primo?\n",
      "3\n",
      "Desea encontrar el siguiente numero primo?\n",
      "5\n",
      "Desea encontrar el siguiente numero primo?\n",
      "7\n",
      "Desea encontrar el siguiente numero primo?\n",
      "Se finaliza el proceso\n"
     ]
    }
   ],
   "source": [
    "#input sirve para pedirle al usuario que cargue un dato. No lo use en el Challenge porque no gay nadie que cargue datos.\n",
    "n = 1\n",
    "sigue = 1\n",
    "primo = True\n",
    "while(sigue == 1):\n",
    "    for i in range (2, n):\n",
    "        if (n % i == 0):\n",
    "            primo = False #Si pongo otro numero que no sea 1, se detiene.\n",
    "            break\n",
    "    if(primo):\n",
    "        print(n)\n",
    "        print('Desea encontrar el siguiente numero primo?')\n",
    "        if(input() != '1'):\n",
    "            print('Se finaliza el proceso') #Se detuvo porque se presiono escape o un numero diferente.\n",
    "            break\n",
    "    else:\n",
    "        primo = True\n",
    "    n +=1    "
   ]
  },
  {
   "attachments": {},
   "cell_type": "markdown",
   "metadata": {},
   "source": [
    "14) Crear un ciclo while que encuentre dentro del rango de 100 a 300 el primer número divisible por 3 y además múltiplo de 6"
   ]
  },
  {
   "cell_type": "code",
   "execution_count": 31,
   "metadata": {},
   "outputs": [
    {
     "name": "stdout",
     "output_type": "stream",
     "text": [
      "El numero es:  102\n",
      "El numero es:  108\n",
      "El numero es:  114\n",
      "El numero es:  120\n",
      "El numero es:  126\n",
      "El numero es:  132\n",
      "El numero es:  138\n",
      "El numero es:  144\n",
      "El numero es:  150\n",
      "El numero es:  156\n",
      "El numero es:  162\n",
      "El numero es:  168\n",
      "El numero es:  174\n",
      "El numero es:  180\n",
      "El numero es:  186\n",
      "El numero es:  192\n",
      "El numero es:  198\n",
      "El numero es:  204\n",
      "El numero es:  210\n",
      "El numero es:  216\n",
      "El numero es:  222\n",
      "El numero es:  228\n",
      "El numero es:  234\n",
      "El numero es:  240\n",
      "El numero es:  246\n",
      "El numero es:  252\n",
      "El numero es:  258\n",
      "El numero es:  264\n",
      "El numero es:  270\n",
      "El numero es:  276\n",
      "El numero es:  282\n",
      "El numero es:  288\n",
      "El numero es:  294\n",
      "El numero es:  300\n"
     ]
    }
   ],
   "source": [
    "n = 100 #Por que se hace unicamente con el 6, porque si es multiplo de 6 tambien es divisor en 3.\n",
    "while(n <= 300): #mientras n sea menor o igual a 300.\n",
    "\n",
    "    if(n % 6 == 0): #Si n es multiplo de 6 y de como resultado igual a cero, imprime el siguiente, porque los numeros primos el resto es 1.\n",
    "        print('El numero es: ',n) #Lo imprimo y se corta\n",
    "    n += 1"
   ]
  }
 ],
 "metadata": {
  "interpreter": {
   "hash": "c85384e4cb51c8b72350f3a8712cc8351fdc3955e32a27f9b60c6242ab125f01"
  },
  "kernelspec": {
   "display_name": "Python 3 (ipykernel)",
   "language": "python",
   "name": "python3"
  },
  "language_info": {
   "codemirror_mode": {
    "name": "ipython",
    "version": 3
   },
   "file_extension": ".py",
   "mimetype": "text/x-python",
   "name": "python",
   "nbconvert_exporter": "python",
   "pygments_lexer": "ipython3",
   "version": "3.11.9"
  }
 },
 "nbformat": 4,
 "nbformat_minor": 4
}
